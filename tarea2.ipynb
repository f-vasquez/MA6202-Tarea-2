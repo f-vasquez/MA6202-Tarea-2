{
 "cells": [
  {
   "cell_type": "markdown",
   "metadata": {},
   "source": [
    "# MA6202: Laboratorio de Ciencia de Datos\n",
    "\n",
    "**Profesor: Nicolás Caro**\\\n",
    "**Auxiliar: Rodrigo Lara M**\n",
    "\n",
    "**12/07/2020 - Tarea 2**\n",
    "\n",
    "\n",
    "**Integrantes del grupo**: Fabián Badilla M., Francisco Vásquez L., Javier Santibáñez M."
   ]
  },
  {
   "cell_type": "markdown",
   "metadata": {},
   "source": [
    "## Introducción"
   ]
  },
  {
   "cell_type": "markdown",
   "metadata": {},
   "source": [
    "La siguiente evaluación corresponde a la segunda tarea del curso de laboratorio de ciencia de datos. A lo largo de la tarea se trabaja sobre un problema de clasificación binaria de imágenes torácicas de rayos X, buscando predecir si la imagen corresponde a neumonía.\n",
    "\n",
    "Se evaluará la presentación de sus resultados por medio de un informe, las condiciones de entrega requeridas son:\n",
    "* La extensión máxima del informe es de 8 planas a las que puede añadir 2 para anexos.\n",
    "* Debe adjuntar un repositorio ``git`` donde se incluya todo su código.\n",
    "    * A lo menos 1 ``commit`` por cada pregunta de la tarea\n",
    "    * Por lo menos 1 ``merge`` a través de su trabajo.\n",
    "* Incluya un documento ``jupyter notebook`` llamado ``tarea2.ipynb`` en el cual se exponga todo el procedimiento realizado.\n",
    "* Por  ́ultimo es necesario también entregar un archivo *hdf* denominado ``modelo.h5`` que contenga los pesos del mejor modelo de red neuronal obtenido.\n",
    "\n",
    "Tenga  en  mente  que  su  informe  será  revisado  por  un  equipo  técnico  que  debe  entender  a  cabalidad  su metodología, ser capaz de replicarlo y evaluarlo a partir de su lectura."
   ]
  },
  {
   "cell_type": "markdown",
   "metadata": {},
   "source": [
    "## P1. Carga y transformación de datos"
   ]
  },
  {
   "cell_type": "markdown",
   "metadata": {},
   "source": [
    "Al abordar un problema de clasificación de imágenes con redes neuronales profundas, es importante optimizar el proceso de carga de datos. Al tratarse de imágenes, es de esperar que no todas las muestras puedan ser almacenadas en memoria de manera simultanea, por lo que es necesario construir un *generador*. El objetivo de la sección es construir un *generador* de muestras eficiente, que minimice el tiempo de carga de datos y optimice el uso de memoria.\n",
    "\n",
    "El conjunto de datos a utilizar está disponible en este [link](https://data.mendeley.com/datasets/rscbjbr9sj/2/files/f12eaf6d-6023-432f-acc9-80c9d7393433/ChestXRay2017.zip). En la Figura 1 se observan algunas muestras de cada clase. La carpeta ``train`` consta de alrededor de $5.000$ imágenes y la carpeta ``test``, cerca de $600$. Al ser un conjunto de datos pequeño, se emplean técnicas de aumentación de datos que serán detalladas a continuación."
   ]
  },
  {
   "cell_type": "markdown",
   "metadata": {},
   "source": [
    "1. Instancie objetos de la clase ``torchvision.datasets.DataFolder`` que le permitan cargar las imágenes de las carpetas ``train`` y ``test``. Además, Construya la función ``loader``, que permite cargar muestras de la base de datos. Note que existen imágenes que tienen 1 sólo canal, estas deben ser transformadas a 3 canales mediante concatenación. Dicho procedimiento debe ocurrir en la función ``loader``.\n",
    "En el parámetro ``transform``, instancie un objeto de la clase ``torchvision.transforms.Compose`` que componga las siguientes transformaciones:\n",
    "\n",
    "* Escalamiento de la imagen a un tamaño de $224\\times 224$ pixeles. Además escale los valores de brillo delos pixeles a valores entre $0$ y $1$, dividiendo por el valor máximo del tipo de dato ``uint8``\n",
    "* Con probabilidad $\\frac{1}{2}$, voltee la imagen en el eje horizontal.\n",
    "* Rote la imagen, con respecto a su centro, con un ángulo aleatorio entre -$20°$ y $20°$.\n",
    "* Multiplique los valores de brillo de cada canal por un número aleatorio entre $1,2$ y $1,5$. Cada pixel debeser multiplicado por un número potencialmente distinto, es decir, a cada valor de brillo corresponde un número aleatorio potencialmente diferente."
   ]
  },
  {
   "cell_type": "code",
   "execution_count": null,
   "metadata": {
    "tags": []
   },
   "outputs": [],
   "source": [
    "import numpy as np\n",
    "import pandas as pd\n",
    "import matplotlib.pyplot as plt\n",
    "from torchvision.datasets import DatasetFolder\n",
    "from torchvision import transforms\n",
    "from PIL import Image"
   ]
  },
  {
   "cell_type": "code",
   "execution_count": null,
   "metadata": {},
   "outputs": [],
   "source": [
    "def loader(input):\n",
    "    '''Funcion que carga la imagen, si es de 1 canal la pasa a 3 canales '''\n",
    "    image = Image.open(input)\n",
    "    img = image.split()\n",
    "    if len(img) == 1:\n",
    "        return Image.merge('RGB', (img[0], img[0], img[0]))\n",
    "    else:\n",
    "        return image"
   ]
  },
  {
   "cell_type": "code",
   "execution_count": null,
   "metadata": {
    "tags": []
   },
   "outputs": [],
   "source": [
    "'''Ejemplo de carga de imagenes '''\n",
    "img = loader('data\\\\chest_xray\\\\train\\\\PNEUMONIA\\\\person1_bacteria_1.jpeg')\n",
    "# print(img.size)\n",
    "plt.imshow(img)"
   ]
  },
  {
   "cell_type": "code",
   "execution_count": null,
   "metadata": {},
   "outputs": [],
   "source": [
    "'''Transformaciones necesarias '''\n",
    "\n",
    "def ajust_brillo(img):\n",
    "    '''Multiplica los valores de cada pixel por un número aleatorio entre 1.2 y 1.5 '''\n",
    "    return img.point(lambda i: i*np.random.uniform(1.2,1.5))\n",
    "\n",
    "transf = transforms.Compose([transforms.Resize([224, 224]),\n",
    "                             transforms.ColorJitter(brightness=(0,1)),\n",
    "                             transforms.RandomHorizontalFlip(p=0.5),\n",
    "                             transforms.RandomRotation(degrees=(-20,20)),\n",
    "                             transforms.Lambda(lambda x: ajust_brillo(x))\n",
    "                            ])"
   ]
  },
  {
   "cell_type": "code",
   "execution_count": null,
   "metadata": {},
   "outputs": [],
   "source": [
    "'''\n",
    "Data debe estar en carpeta: data/chest_xray\n",
    "Lo deje en gitignore porque pesa mucho y puede morir github\n",
    "'''\n",
    "data_train = DatasetFolder('data/chest_xray/train', loader = loader, extensions=('jpeg'), transform=transf)\n",
    "data_test = DatasetFolder('data/chest_xray/test', loader = loader, extensions=('jpeg'), transform=transf)"
   ]
  },
  {
   "cell_type": "code",
   "execution_count": null,
   "metadata": {
    "tags": []
   },
   "outputs": [],
   "source": [
    "''' Otro ejemplo '''\n",
    "plt.imshow(data_train[0][0], cmap=\"gray\")"
   ]
  },
  {
   "cell_type": "markdown",
   "metadata": {},
   "source": [
    "Mediante perfilamiento de tiempo de cómputo seleccione las herramientas que le parezcan óptimas para implementar las transformaciones anteriores. Puede utilizar las librerías ``pytorch``, ``PIL``, ``skimage`` u ``opencv``. Incluya en el reporte, una comparación con herramientas de 2 procesamientos de su elección.\n",
    "\n",
    "**Observación:**  Se  recomienda  realizar  por  completo  las  secciones **P1** y **P2** antes de fundamentar su selección."
   ]
  },
  {
   "cell_type": "code",
   "execution_count": null,
   "metadata": {},
   "outputs": [],
   "source": [
    "'''Ahora con OpenCV '''\n",
    "import cv2 as cv\n",
    "\n",
    "def loader_cv(input):\n",
    "    return cv.imread(input)\n",
    "\n",
    "img_cv = loader_cv('data\\\\chest_xray\\\\train\\\\PNEUMONIA\\\\person1_bacteria_1.jpeg')\n",
    "plt.imshow(img_cv)"
   ]
  },
  {
   "cell_type": "code",
   "execution_count": null,
   "metadata": {},
   "outputs": [],
   "source": [
    "'''Falta perfilamiento '''"
   ]
  },
  {
   "cell_type": "code",
   "execution_count": null,
   "metadata": {
    "tags": []
   },
   "outputs": [],
   "source": [
    "%timeit data_train[0][0]"
   ]
  },
  {
   "cell_type": "markdown",
   "metadata": {},
   "source": [
    "2. Visualice la cantidad de muestras de cada clase en las carpetas ``train`` y ``test``. Discuta sobre las implicancias de estas distribuciones."
   ]
  },
  {
   "cell_type": "code",
   "execution_count": null,
   "metadata": {},
   "outputs": [],
   "source": [
    "data_train"
   ]
  },
  {
   "cell_type": "code",
   "execution_count": null,
   "metadata": {},
   "outputs": [],
   "source": [
    "def suma_clases(data):\n",
    "    '''Dado un DatasetFolder, retorna cantidad de datos en clase 0 y 1 '''\n",
    "    suma_c0 = 0\n",
    "    suma_c1 = 0\n",
    "    for x in data:\n",
    "        if x[1] == 0:\n",
    "            suma_c0 +=1\n",
    "        else:\n",
    "            suma_c1 +=1\n",
    "    return suma_c0, suma_c1"
   ]
  },
  {
   "cell_type": "code",
   "execution_count": null,
   "metadata": {},
   "outputs": [],
   "source": [
    "c0_train, c1_train = suma_clases(data_train)\n",
    "c0_test, c1_test = suma_clases(data_test)\n",
    "\n",
    "clases = pd.DataFrame([[c0_train,c0_test], [c1_train,c1_test], [c0_train+c1_train,c0_test+c1_test]], columns=['Train','Test'],index=['Clase 0', 'Clase 1','Total'])\n",
    "clases"
   ]
  },
  {
   "cell_type": "code",
   "execution_count": null,
   "metadata": {},
   "outputs": [],
   "source": [
    "print(clases.to_latex())"
   ]
  },
  {
   "cell_type": "markdown",
   "metadata": {},
   "source": [
    "Debido a que el balance de clases es diferente entre la carpeta ``train`` de la carpeta ``test``, es necesario definir cual es la distribución de clases del *problema*. En lo que sigue, asumiremos que dicha distribución es la que presenta la carpeta ``test``. Esto quiere decir que en un entorno de producción, se espera recibir muestras distribuidas de manera similar a tal conjunto, que llamaremos *conjunto de prueba*."
   ]
  },
  {
   "cell_type": "markdown",
   "metadata": {},
   "source": [
    "3. Separe los índices del objeto ``DataFolder`` de la carpeta ``train`` en un *conjunto de entrenamiento* y un *conjunto de validación*, con un $80$ y $20\\%$ de las muestras respectivamente. Construya la clase ``ReplicarMuestreoDePrueba`` que herede de ``torch.utils.data.Sampler`` y permita iterar sobre el conjunto de validación de tal forma que replique la distribución de clases del *conjunto de prueba*, mediante un sobremuestreo de la clase minoritaria. Esta clase debe poseer los métodos:\n",
    "    * ``__init__(self, etiquetas_prueba, indices_val, etiquetas_val):`` que guarde como atributos las variables necesarias para generar el muestreo deseado.\n",
    "    * ``__iter__(self):`` que entregue un ``iterator`` sobre los índices del muestreo deseado\n",
    "    \n",
    "*Hint:* Puede ser útil emplear ``numpy.random.choice``. Observe que tendrá índices de validación duplicados.\n",
    "\n",
    "**Observación:** Asuma que se trata de un problema de clasificación binaria."
   ]
  },
  {
   "cell_type": "code",
   "execution_count": null,
   "metadata": {},
   "outputs": [],
   "source": [
    "from sklearn.model_selection import train_test_split\n",
    "\n",
    "'''Separacion train-validacion '''\n",
    "X_tr = np.array([np.asarray(obs[0]) for obs in data_train])\n",
    "y_tr = np.array([obs[1] for obs in data_train])\n",
    "\n",
    "X_train, X_val, y_train, y_val = train_test_split(X_tr, y_tr, test_size = .2)"
   ]
  },
  {
   "cell_type": "code",
   "execution_count": null,
   "metadata": {
    "tags": []
   },
   "outputs": [],
   "source": [
    "print('X_train.shape: ', X_train.shape)\n",
    "print('X_val.shape: ', X_val.shape)"
   ]
  },
  {
   "cell_type": "code",
   "execution_count": null,
   "metadata": {},
   "outputs": [],
   "source": [
    "from torch.utils.data import Sampler\n",
    "\n",
    "class ReplicarMuestreoDePrueba(Sampler):\n",
    "    '''\n",
    "    Permite iterar sobre el conjunto de validación tal que replica la distribución de clases del conjunto de       prueba, mediante un sobremuestreo de la clase minoritaria \n",
    "    '''\n",
    "\n",
    "    def __init__(self, etiquetas_prueba, indices_val, etiquetas_val):\n",
    "        self.etiquetas_prueba = etiquetas_prueba\n",
    "        self.indices_val = indices_val\n",
    "        self.etiquetas_val = etiquetas_val\n",
    "\n",
    "    def __iter__(self):\n",
    "        p_test = np.sum(self.etiquetas_prueba)/len(self.etiquetas_prueba) # prob de ser 1, en testeo\n",
    "        # Se le da prob de ser escogido a la clase minoritaria\n",
    "        if p_test < 0.5:\n",
    "            p_vect = self.etiquetas_val\n",
    "        else:\n",
    "            p_vect = 1 - self.etiquetas_val\n",
    "        p_vect = p_vect/np.sum(p_vect) # debe sumar 1\n",
    "        sampleo = self.indices_val\n",
    "        sampleo_eti = self.etiquetas_val\n",
    "        p_sampleo = np.sum(sampleo_eti)/len(sampleo_eti)\n",
    "        while abs(p_sampleo - p_test) > 1e-3:\n",
    "            index = np.random.choice(self.indices_val, size=1, p=p_vect)\n",
    "            sampleo = np.append(sampleo, index)\n",
    "            sampleo_eti = np.append(sampleo_eti, self.etiquetas_val[index])\n",
    "            p_sampleo = np.sum(sampleo_eti)/len(sampleo_eti)\n",
    "        return sampleo"
   ]
  },
  {
   "cell_type": "code",
   "execution_count": null,
   "metadata": {},
   "outputs": [],
   "source": [
    "'''Distribucion conjunto de test '''\n",
    "X_test = np.array([np.asarray(obs[0]) for obs in data_test])\n",
    "y_test = np.array([obs[1] for obs in data_test])\n",
    "\n",
    "np.sum(y_test)/len(y_test)"
   ]
  },
  {
   "cell_type": "code",
   "execution_count": null,
   "metadata": {
    "tags": []
   },
   "outputs": [],
   "source": [
    "'''Se comprueba que samplea distribucion similar a la de test ''''\n",
    "Sampleo = ReplicarMuestreoDePrueba(y_test, list(range(len(y_val))), y_val)\n",
    "el_iter = Sampleo.__iter__()\n",
    "np.sum(y_val[el_iter])/len(y_val[el_iter])"
   ]
  },
  {
   "cell_type": "markdown",
   "metadata": {},
   "source": [
    "4. Instancie objetos de la clase ``torch.utils.data.DataLoader`` para recorrer sus conjuntos de entrenamiento, validación y prueba. Para ello utilice los objetos adecuados en el parámetro ``sampler``. Discuta en el reporte las implicancias en tiempos de cómputo del parámetro ``num_workers``\n",
    "\n",
    "*Hint:* Puede ser útil usar la clase ``torch.utils.data.sampler.SubsetRandomSampler`` para el *conjunto de entrenamiento* y ``torch.utils.data.RandomSampler`` para el *conjunto de prueba*.\n",
    "\n",
    "**Observación:** Se recomienda realizar por completo las secciones **P1** y **P2** para fundamentar su discusión. Además, como referencia, en ``Colaboratory`` el parámetro ``batch_size=16`` es compatible con los recursos de la plataforma"
   ]
  },
  {
   "cell_type": "code",
   "execution_count": null,
   "metadata": {},
   "outputs": [],
   "source": [
    "from torch.utils.data import TensorDataset\n",
    "import torch\n",
    "\n",
    "train_ds = TensorDataset(torch.from_numpy(X_train), torch.from_numpy(y_train))\n",
    "valid_ds = TensorDataset(torch.from_numpy(X_val), torch.from_numpy(y_val))\n",
    "test_ds = TensorDataset(torch.from_numpy(X_test), torch.from_numpy(y_test))"
   ]
  },
  {
   "cell_type": "code",
   "execution_count": null,
   "metadata": {},
   "outputs": [],
   "source": [
    "from torch.utils.data import DataLoader, RandomSampler\n",
    "from torch.utils.data.sampler import SubsetRandomSampler\n",
    "\n",
    "train_DL = DataLoader(train_ds, sampler = SubsetRandomSampler(list(range(len(X_train)))))\n",
    "valid_DL = DataLoader(valid_ds, sampler = ReplicarMuestreoDePrueba(y_test, list(range(len(y_val))), y_val))\n",
    "test_DL = DataLoader(test_ds, sampler = RandomSampler(test_ds)) "
   ]
  },
  {
   "cell_type": "code",
   "execution_count": null,
   "metadata": {},
   "outputs": [],
   "source": [
    "'''Falta comparacion implicancias en tiempos de cómputo del parámetro num_workers'''"
   ]
  },
  {
   "cell_type": "markdown",
   "metadata": {},
   "source": [
    "## P2. Redes convolucionales profundas"
   ]
  },
  {
   "cell_type": "markdown",
   "metadata": {},
   "source": [
    "El objetivo de esta sección es construir una red neuronal profunda para el problema de clasificación de imágenes de rayos X sobre neumonía. Dicha red debe ser implementada en ``Pytorch``.\n",
    "\n",
    "<img src=\"https://miro.medium.com/max/1400/1*yG6z6ESzsRW-9q5F_neOsg.png\" alt=\"drawing\" style=\"width:600px;\" title=\"(a) Capa de convolución depthwise\"/>\n",
    "<img src=\"https://miro.medium.com/max/1400/1*Q7a20gyuunpJzXGnWayUDQ.png\" alt=\"drawing\" style=\"width:600px;\" title=\"(b) Capa de convolución pointwise\"/>\n",
    "\n",
    "<center>Figura 2: Componentes de la capa de convolución <em>Depthwise Separable Convolution</em></center>\n",
    "\n",
    "\n",
    "Se implementa un tipo de capa de convolución conocida como *Dephtwise Separable Convolution*. Esta consiste en separar una capa de $k$ filtros de convolución de tamaño $n\\times n$, i.e. definida por $k$ filtros de tamaño $n\\times n\\times c$ (donde $c$ representa el número de canales) en dos capas de convolución:\n",
    "\n",
    "* Una capa de convolución llamada *Depthwise*, definida por $c$ filtros de tamaño $n\\times n\\times 1$, donde cada canal de entrada es convolucionado con su respectivo filtro, obteniéndose así un volumen de salida de $c$ canales. En la figura 2a se ilustra lo mencionado para $n= 5$, $c= 3$ y un $stride= 1$.\n",
    "\n",
    "\n",
    "* Una capa de convolución llamada *pointwise*, definida por $k$ filtros de tamaño $1\\times 1\\times c$ que se aplica al volumen de salida de la capa *depthwise*. En la figura 2b se muestra su funcionamiento para $c= 3$ y $k= 256$. Cabe notar que la función de activación se aplica sólo en el volumen de salida de esta capa.\n",
    "\n",
    "\n",
    "1. Construya la clase ``deDWSepConv2d`` que herede de ``torch.nn`` y haga overriding de los métodos ``__init__`` y ``forward``.  El  primero  debe  recibir  como  parámetros: ``in_channels``, ``out_channels``, ``kernel_size``, ``padding``, ``bias=True``. Estos tienen el significado usual empleados en los módulos ``torch.nn``.\n",
    "\n",
    "*Hint:* Observe que para el ejemplo de la Figura 2 los parámetros tomarían los valores ``in_channels=3``, ``out_channels=256`` y ``kernel_size=5``."
   ]
  },
  {
   "cell_type": "code",
   "execution_count": null,
   "metadata": {},
   "outputs": [],
   "source": []
  },
  {
   "cell_type": "markdown",
   "metadata": {},
   "source": [
    "2. Construya una red convolucional profunda mediante la clase ``VGG16DWSep`` que hereda ``torch.nn`` y hace overriding de los métodos ``__init__`` y ``forward``, de tal manera que la red posea la estructura detallada en la Tabla 1.  \n",
    "  \n",
    "  Obtenga el número de parámetros que tiene esta estructura y el número de parámetros que habrían sido utilizados si todas las capas ``DWSepConv2d`` hubiesen sido ``Conv2d``. Discuta la ganancia en tiempo de cómputo en entrenamiento y prueba."
   ]
  },
  {
   "cell_type": "code",
   "execution_count": null,
   "metadata": {},
   "outputs": [],
   "source": []
  },
  {
   "cell_type": "markdown",
   "metadata": {},
   "source": [
    "3. Transfiera los pesos de las dos primeras capas de convolución de la red ``VGG16`` preentrenada en *imageNet* a las dos primeras capas de la red ``VGG16DWSep`` construida y manténgalos constantes durante el entrenamiento."
   ]
  },
  {
   "cell_type": "code",
   "execution_count": null,
   "metadata": {},
   "outputs": [],
   "source": []
  },
  {
   "cell_type": "markdown",
   "metadata": {},
   "source": [
    "|     capa    | tamaño filtro | padding | stride | # filtros |\n",
    "|:-----------:|:-------------:|:-------:|:------:|:---------:|\n",
    "|    Conv2d   |       3       |    1    |    1   |     64    |\n",
    "|    Conv2d   |       3       |    1    |    1   |     64    |\n",
    "|  MaxPool2d  |       2       |    0    |    2   |     -     |\n",
    "| DWSepConv2d |       3       |    1    |    1   |    128    |\n",
    "| DWSepConv2d |       3       |    1    |    1   |    128    |\n",
    "|  MaxPool2d  |       2       |    0    |    2   |     -     |\n",
    "| DWSepConv2d |       3       |    1    |    1   |    256    |\n",
    "| BatchNorm2d |       -       |    -    |    -   |     -     |\n",
    "| DWSepConv2d |       3       |    1    |    1   |    256    |\n",
    "| BatchNorm2d |       -       |    -    |    -   |     -     |\n",
    "| DWSepConv2d |       3       |    1    |    1   |    256    |\n",
    "|  MaxPool2d  |       2       |    0    |    2   |     -     |\n",
    "| DWSepConv2d |       3       |    1    |    1   |    512    |\n",
    "| BatchNorm2d |       -       |    -    |    -   |     -     |\n",
    "| DWSepConv2d |       3       |    1    |    1   |    512    |\n",
    "| BatchNorm2d |       -       |    -    |    -   |     -     |\n",
    "| DWSepConv2d |       3       |    1    |    1   |    512    |\n",
    "|  MaxPool2d  |       2       |    0    |    2   |     -     |\n",
    "|   Flatten   |       -       |    -    |    -   |     -     |\n",
    "|    Linear   |       -       |    -    |    -   |    1024   |\n",
    "| Dropout(.7) |       -       |    -    |    -   |     -     |\n",
    "|    Linear   |       -       |    -    |    -   |    512    |\n",
    "| Dropout(.5) |       -       |    -    |    -   |     -     |\n",
    "|    Linear   |       -       |    -    |    -   |     2     |\n",
    "\n",
    "  \n",
    "  <center>Tabla 1: Estructura de la red VGG16DWSep</center>"
   ]
  },
  {
   "cell_type": "markdown",
   "metadata": {},
   "source": [
    "Al entrenar redes neuronales profundas, es usual emplear una heurística de regularización llamada *Early Stopping* que consiste en monitorear alguna métrica de desempeño (usualmente la función de costo) en un conjunto de validación, para así detener el entrenamiento cuando dicha métrica empeora de forma sostenida.\n",
    "\n",
    "En el siguiente fragmento de código ilustramos el uso de la heurística implementada en la clase ``EarlyStopping``:\n",
    "```c\n",
    "es = EarlyStopping (...)\n",
    "for  epoch in range(num_epochs):\n",
    "    # ciclo de entrenamiento\n",
    "    ...\n",
    "\n",
    "    # ciclo de validacion\n",
    "    ...\n",
    "\n",
    "    metrica_validacion = ...\n",
    "\n",
    "    if es.deberia_parar(metrica_validacion):\n",
    "        # se cumple el criterio de \"early stop\"\n",
    "        break\n",
    "```\n",
    "\n",
    "<center>Listing 1: Funcionamiento de la heurística Early Stopping</center>"
   ]
  },
  {
   "cell_type": "markdown",
   "metadata": {},
   "source": [
    "4. Programe la clase ``EarlyStopping``. Cuyo objetivo es implementar la heurística mencionada. Esta debe poseer los siguientes métodos:\n",
    "    * ``__init__(self, modo=’min’, paciencia=5, porcentaje=False, tol=0):`` donde los parámetros:\n",
    "\n",
    "        * ``modo``:  toma  valores  en ``’min’`` o ``’max’``.  Este  define  si  la  métrica  obtenida  en  el  conjunto de validación es considerada mejor al ser más pequeña o más grande según respectivamente.\n",
    "        * ``paciencia``: define el número de épocas en la que la métrica de validación puede empeorar sin detener el entrenamiento.\n",
    "        * ``porcentaje``: define si la comparación entre métricas de desempeño en validación, deben realizarse en términos relativos (como porcentaje de a la mejor métrica de desempeño observada) o absolutos.\n",
    "        * ``tol``: define la diferencia mínima que debe existir con respecto la mejor métrica de desempeño observada en validación, para considerar si existe un empeoramiento del desempeño y actualizar el valor del contador asociado a ``paciencia``.\n",
    "        \n",
    "     Se deja a criterio del equipo la definición de atributos para el correcto funcionamiento de la clase.  \n",
    "       \n",
    " * ``mejor(self, metrica_validacion):`` que compare la ``metrica_validacion`` con la mejor métrica de desempeño ya observada.  Dicha comparación debe realizarse considerando los parámetros ``modo``, ``porcentaje`` y ``tol``, y debe retornar ``True`` o ``False``.\n",
    " * ``deberia_parar(self, metrica_validacion):`` que llame al método ``mejor`` y retorne ``True`` cuando la cantidad de épocas en que ``metrica_validacion`` empeora con respecto a la mejor. métrica de desempeño observada sea igual a ``paciencia``. En caso contrario retorna ``False``."
   ]
  },
  {
   "cell_type": "code",
   "execution_count": null,
   "metadata": {},
   "outputs": [],
   "source": []
  },
  {
   "cell_type": "markdown",
   "metadata": {},
   "source": [
    "5. Implemente el ciclo de entrenamiento de la red ``VGG16DWSep`` utilizando una instancia de la clase ``EarlyStopping`` según el esquema de Listing 1 con sus parámetros por defecto y además vaya guardando los pesos del mejor modelo obtenido a través de las épocas. Para dicho ciclo de entrenamiento use:\n",
    "    * *Entropía cruzada* como función de costo.\n",
    "    * *Adam* cómo algoritmo de optimización, con parámetros ``lr=1e-4`` y ``weight_decay=1e-5``.\n",
    "    \n",
    "Reporte sus resultados en términos de *accuracy* y *f1-score*. Compruebe que obtiene resultados superiores a $,75$ y $,8$ respectivamente. *Hint:* Por la magnitud del problema se recomienda usar GPU. Recuerde que en ``Colaboratory`` tiene acceso gratuito a dicho recurso."
   ]
  },
  {
   "cell_type": "code",
   "execution_count": null,
   "metadata": {},
   "outputs": [],
   "source": []
  },
  {
   "cell_type": "markdown",
   "metadata": {},
   "source": [
    "6. Implemente aumentación de datos en el conjunto de prueba: para una observación $x_i$, obtenga $d$ muestras $\\{x^{(j)}_i\\}^d_{j=1}$ para calcular la predicción $\\hat{y}_i=argmax_{j=1,...,d}f(x^{(j)}_i)$, donde $f(\\cdot)$ representa la probabilidad asociada la predicción de su red. Discuta si es correcto o no realizar esto y soporte su argumento con los resultados obtenidos en términos de *accuracy* y *f1-score*.\n",
    "\n",
    "*Hint:* Puede ser útil implementar una clase que herede de ``torch.utils.data.Sampler`` y que reciba como parámetros la cantidad de muestras para una misma observación $x_i$."
   ]
  },
  {
   "cell_type": "markdown",
   "metadata": {},
   "source": [
    "## P3. Interpretabilidad"
   ]
  },
  {
   "cell_type": "markdown",
   "metadata": {},
   "source": [
    "El objetivo de esta pregunta es que implemente un modelo auxiliar de interpretabilidad local sobre laspredicciones que genera una red neuronal. Esto consiste en generar perturbaciones sobre datos de entrada, con el fin de comprender la importancia de las variables en los procesos de predicción. Para ello deberá implementar el método LIME (**L**ocal**I**nterpretable**M**odel-**A**gnostic**E**xplanations).\n",
    "\n",
    "### Desarrollo teórico\n",
    "El procedimiento LIME consiste en una metodología diseñada para otorgar *interpretabilidad* a modelos de aprendizaje que suelen ser denotados como “caja negra”. Por interpretabilidad se entiende, la capacidad deestablecer relaciones claras entre las variables de un fenómeno y la respuesta que producen. LIME es “agnóstico en el modelo”, esto se refiere a que pueda ser utilizado para cualquier tipo de modelo de predicción.\n",
    "\n",
    "La idea central de LIME consiste en aproximar localmente el comportamiento de un predictor, utilizando un modelo que sea interpretable como por ejemplo regresión lineal o arboles de decisión. En términos concretos, dada una instancia a predecir $x\\in\\mathbb{R}^d$ (dato de entrada), se utilizará un vector $x′\\in\\{0,1\\}^{d'}$como representación interpretable. Se define así, una **explicación** cómo un modelo $g\\in G$, donde $G$ corresponde a una familia de modelos potencialmente interpretable, el dominio de cada $g\\in G$ será $\\{0,1\\}^{d'}$. Para asegurar que la aproximación buscada sea interpretable por un humano, se utiliza una medida  de complejidad $\\Omega(g)$ sobre cada $g\\in G$, considerando el grado de complejidad en contraposición a la interpretabilidad de un modelo.\n",
    "\n",
    "Sea un modelo predictor $f:\\mathbb{R}^d\\to \\mathbb{R}$, sea además $x\\in\\mathbb{R}^d$ en el conjunto de datos de entrada, y $x′\\in\\{0,1\\}^{'d}$ su representación interpretable. Para $x$ se define $\\pi_x(z'):\\{0,1\\}^{'d} \\to\\mathbb{R}$ como una medida de similitud entre $x′$ y $z′\\in \\{0,1\\}^{′d}$. Finalmente, se define $L(f,g,\\pi_x)$ en una vecindad inducida localmente por $\\pi_x$. Para asegurar interpretabilidad y fidelidad local (asociada a $x$), la explicación producida por LIME se obtiene resolviendo la siguiente expresión:\n",
    "\n",
    "\\begin{equation}\n",
    "\\xi(x) = arg min_{g\\in G}\\mathcal{L}(f,g,\\pi_x) + \\Omega(g)\n",
    "\\label{eqn:1}  \\tag{1}\n",
    "\\end{equation}\n",
    "\n",
    "En esta pregunta, se utilizará regresión logística cómo familia de explicaciones $G$, es decir para cada $g\\in G$ este será de la forma $g(x′) =\\sigma(w_g\\cdot x′)$. Cómo función de fidelidad $\\mathcal{L}$ se usa el la verosimilitud asociada a la regresión logística, ponderada localmente por $\\pi_x$, es decir:\n",
    "\n",
    "\\begin{equation}\n",
    "\\mathcal{L}(f,g,\\pi_x) =\\sum_{z,z′}\\pi_x(z)(f(z) log(g(z′)) + (1−f(z)) log(1−g(z′))\n",
    "\\label{eqn:2} \\tag{2}\n",
    "\\end{equation}\n",
    "\n",
    "En este caso $\\pi_x$ será un kernel exponencial definido por una medida de similitud, se utilizará la distancia coseno:\n",
    "\n",
    "\\begin{align}\n",
    "\\pi_x(z′) &= \\exp(−d(x′,z′)^2/\\sigma^2)\\tag{3} \\\\ \n",
    "d(x′,z′) &= 1−\\frac{x′\\cdot z′}{‖x′‖‖z′‖}\n",
    "\\label{eqn:4}\\tag{4}\n",
    "\\end{align}"
   ]
  },
  {
   "cell_type": "markdown",
   "metadata": {},
   "source": [
    "Implemente los paso iniciales para trabajos con LIME, para esto:\n",
    "1. Instancie un objeto ``torchvision.transforms.Compose``, este opera sobre imágenes ``PIL`` y le aplique las siguientes transformaciones:\n",
    "    * Escalamiento de la imagen a un tamaño de $229\\times 229$ píxeles.\n",
    "    * Opere por medio de ``CenterCrop(299)``.\n",
    "    * Transforme la imagen en un objeto ``Tensor``.\n",
    "    * Normalice con las medias ``[0.485, 0.456, 0.406]`` y, desviaciones estándar ``[0.229, 0.224, 0.225]``."
   ]
  },
  {
   "cell_type": "code",
   "execution_count": null,
   "metadata": {},
   "outputs": [],
   "source": [
    "import torch\n",
    "from PIL import Image\n",
    "import torchvision.transforms as torch_transforms\n",
    "\n",
    "mean_transform = [0.485, 0.456, 0.406]\n",
    "std_transform = [0.229, 0.224, 0.225]\n",
    "n_centercrop = 299\n",
    "x_resize = 229\n",
    "y_resize = 229\n",
    "\n",
    "transform_image =  torch_transforms.Compose([\n",
    "                                              torch_transforms.Resize((x_resize,y_resize)),\n",
    "                                              torch_transforms.CenterCrop(n_centercrop),\n",
    "                                              torch_transforms.ToTensor(),\n",
    "                                              torch_transforms.Normalize(mean_transform, std_transform)\n",
    "                                              ])"
   ]
  },
  {
   "cell_type": "markdown",
   "metadata": {},
   "source": [
    "2. Cargue la red ``inception_v3`` entrenada sobre *imageNet* (en ``Pytorch``). Utilice esta red para hacer predicción sobre una imagen de control a la cual se aplican las transformaciones antes definidas. Obtenga la clase más probable asignada por la red. \n",
    "\n",
    "*Hint:* Puede ser ́útil la función ``decode_predictions``del módulo ``keras.applications.imagenet_utils`` sobre las predicciones de la red cargada."
   ]
  },
  {
   "cell_type": "code",
   "execution_count": null,
   "metadata": {},
   "outputs": [],
   "source": [
    "import torchvision.models as models\n",
    "\n",
    "model_inception = models.inception_v3( pretrained=True)\n",
    "# model_inception = torch.hub.load('pytorch/vision:v0.6.0', 'inception_v3', pretrained=True)\n",
    "model_inception.eval()"
   ]
  },
  {
   "cell_type": "code",
   "execution_count": null,
   "metadata": {},
   "outputs": [],
   "source": [
    "from keras.applications.imagenet_utils import decode_predictions\n",
    "import numpy as np\n",
    "\n",
    "test_image_imagenet = Image.open('test_image_imagenet.jpg') # Está en data/images\n",
    "test_image_transformed = transform_image(test_image_imagenet)\n",
    "\n",
    "pred_image = model_inception(test_image_transformed.unsqueeze(0))\n",
    "\n",
    "aux_pred = np.expand_dims(pred_image.detach().numpy(), axis=0)\n",
    "label_predict = decode_predictions(aux_pred[0])"
   ]
  },
  {
   "cell_type": "code",
   "execution_count": null,
   "metadata": {},
   "outputs": [],
   "source": [
    "label_predict"
   ]
  },
  {
   "cell_type": "markdown",
   "metadata": {},
   "source": [
    "3. Segmente la imagen de control utilizando la función ``slic`` del módulo ``skimage.segmentation``, para los parámetros ``start_label=0``, ``n_segments=80``. El resultado de esta segmentación es un arreglo de dimensión $299\\times 299$ que asigna una categoría para cada píxel de la imagen procesada. Todos los píxeles en la imagen que comparten etiqueta conforman un super-píxel dentro de la imagen. Utilice la función ``mark_boundaries`` del módulo ``skimage.segmentationen`` conjunción con ``imshow`` del módulo ``skimage.io`` para visualizar los bordes inducidos por el conjunto de super-píxeles."
   ]
  },
  {
   "cell_type": "code",
   "execution_count": null,
   "metadata": {},
   "outputs": [],
   "source": []
  },
  {
   "cell_type": "markdown",
   "metadata": {},
   "source": [
    "Al representar una imagen $x$ por medio de la presencia y ausencia de los super-píxeles se logra una representación interpretable $x′$ según un vector de entradas binarias.\n",
    "\n",
    "Genere perturbaciones en la imagen de control, para esto siga los siguientes pasos:\n",
    "4. Defina un número de *perturbaciones* a realizar (al menos $1,000$). Cada perturbación consiste en arreglo binario, donde cada componente es asociada a un super-píxel. Estos arreglos serán las representaciones interpretables de la imagen de control ($x′$ asociado a $x$). Considere cada entrada de su arreglo de perturbaciones como una variable aleatoria ``Bernoulli`` con $p= 0,5$."
   ]
  },
  {
   "cell_type": "code",
   "execution_count": null,
   "metadata": {},
   "outputs": [],
   "source": []
  },
  {
   "cell_type": "markdown",
   "metadata": {},
   "source": [
    "5. Genere tantas versiones perturbadas de la imagen de control como perturbaciones haya construido. Obtener una imagen perturbada consiste en asignar el valor $0$ en cada canal de color en aquellos píxeles cuyos super-píxeles asociados tengan su componente nula en el vector de perturbaciones. Obtenga una visualización de una imagen perturbada."
   ]
  },
  {
   "cell_type": "code",
   "execution_count": null,
   "metadata": {},
   "outputs": [],
   "source": []
  },
  {
   "cell_type": "markdown",
   "metadata": {},
   "source": [
    "6. Haga predicción sobre las imágenes perturbadas utilizando la red ``inception_v3``. Asocie el valor $1$ como etiqueta a las imágenes perturbadas que sean clasificadas a la misma categoría de la imagen de control y $0$ en caso contrario, el arreglo binario correspondiente se denotará $y$."
   ]
  },
  {
   "cell_type": "code",
   "execution_count": null,
   "metadata": {},
   "outputs": [],
   "source": []
  },
  {
   "cell_type": "markdown",
   "metadata": {},
   "source": [
    "7. Calcule $\\pi_x$ según la expresión **(3)**. Para ello, obtenga la distancia de coseno entre las perturbaciones asociadas a cada imagen perturbada y el vector de perturbación de la imagen de control $x$ según lo indica **(4)**."
   ]
  },
  {
   "cell_type": "code",
   "execution_count": null,
   "metadata": {},
   "outputs": [],
   "source": []
  },
  {
   "cell_type": "markdown",
   "metadata": {},
   "source": [
    "Una vez obtenido un conjunto de representaciones para la imagen de control $x$ y el vector de pesos asociados $\\pi_x$, se pasa a minimizar la función de fidelidad, para esto:\n",
    "8. Genere un conjunto de entrenamiento $D_p$. Este consta de vectores de perturbación como observaciones. La variable de respuesta será el arreglo $y$ generado anteriormente."
   ]
  },
  {
   "cell_type": "code",
   "execution_count": null,
   "metadata": {},
   "outputs": [],
   "source": []
  },
  {
   "cell_type": "markdown",
   "metadata": {},
   "source": [
    "9. Utilice la clase ``LogisticRegression`` del módulo ``sklearn.linearmodel`` para entrenar un clasificador sobre conjunto de entrenamiento $D_p$. Haga uso de $\\pi_x$ al momento de utilizar el método ``.fit()``. ¿Es posible agregar una medida de complejidad $\\Omega(g)$ con este esquema? argumente al respecto"
   ]
  },
  {
   "cell_type": "code",
   "execution_count": null,
   "metadata": {},
   "outputs": [],
   "source": []
  },
  {
   "cell_type": "markdown",
   "metadata": {},
   "source": [
    "10. Utilice los coeficientes del clasificador anterior para inferir los super-píxeles de mayor importancia en la clasificación de la imagen de control. Obtenga una visualización y discuta al respecto."
   ]
  },
  {
   "cell_type": "code",
   "execution_count": null,
   "metadata": {},
   "outputs": [],
   "source": []
  },
  {
   "cell_type": "markdown",
   "metadata": {},
   "source": [
    "La segmentación antes utilizada se hace de *manera espacial*. Es decir, se realiza una clusterización sobre la escala de grises según su posición en la imagen. Del procedimiento recién explicado para implementar LIME reemplace la etapa de segmentación de la imagen por 2 segmentaciones espaciales utilizando 2 modelos de clustering a su elección, para ello:\n",
    "11. Clusterice sobre un conjunto de entrenamiento $X$ con $299^2$ observaciones, es decir, una observación por píxel en la imagen de control escalada. Cada observación de $X$ consta de 3 componentes, donde la primera y segunda son espaciales (posición del píxel en la imagen) y la última es el valor de intensidad asociado al píxel (escala de grises). Utilice los clusters descubiertos para generar super-píxeles.  \n",
    "  \n",
    "  *Hint:* En Scikit-learn el método ``fit_predict`` en algoritmos de clustering puede ser de ayuda para generar super-píxeles"
   ]
  },
  {
   "cell_type": "code",
   "execution_count": null,
   "metadata": {},
   "outputs": [],
   "source": []
  },
  {
   "cell_type": "markdown",
   "metadata": {},
   "source": [
    "12. Aplique el esquema LIME desarrollado anteriormente sobre sus super-píxeles. Interprete los resultados"
   ]
  },
  {
   "cell_type": "code",
   "execution_count": null,
   "metadata": {},
   "outputs": [],
   "source": []
  },
  {
   "cell_type": "markdown",
   "metadata": {},
   "source": [
    "Finalmente aplique un esquema LIME sobre una predicción de la red ``VGG16DWSep`` implementada en la parte 2 de la tarea. Discuta sus resultados y observaciones"
   ]
  },
  {
   "cell_type": "markdown",
   "metadata": {},
   "source": [
    "**(Bonus)** Se puede hacer segmentación en el espacio de colores, en este caso, el conjunto a segmentar consiste en una transformación de la imagen de control escalada en un arreglo de dimensión (ancho$\\cdot$largo)$\\times 3$ (en el caso de ``inception_v3``, la dimesión sería $299^2\\times 3$). Sobre este nuevo arreglo implemente un algoritmo de clustering y genere super-píxeles. Aplique un esquema LIME con una familia $G$ no basada en modelos lineales y compare con la misma familia sobre un método de segmentación espacial."
   ]
  },
  {
   "cell_type": "code",
   "execution_count": null,
   "metadata": {},
   "outputs": [],
   "source": []
  }
 ],
 "metadata": {
  "kernelspec": {
   "display_name": "Python 3",
   "language": "python",
   "name": "python3"
  },
  "language_info": {
   "codemirror_mode": {
    "name": "ipython",
    "version": 3
   },
   "file_extension": ".py",
   "mimetype": "text/x-python",
   "name": "python",
   "nbconvert_exporter": "python",
   "pygments_lexer": "ipython3",
   "version": "3.7.1-final"
  },
  "toc": {
   "base_numbering": 1,
   "nav_menu": {},
   "number_sections": true,
   "sideBar": true,
   "skip_h1_title": false,
   "title_cell": "Table of Contents",
   "title_sidebar": "Contents",
   "toc_cell": false,
   "toc_position": {},
   "toc_section_display": true,
   "toc_window_display": false
  },
  "varInspector": {
   "cols": {
    "lenName": 16,
    "lenType": 16,
    "lenVar": 40
   },
   "kernels_config": {
    "python": {
     "delete_cmd_postfix": "",
     "delete_cmd_prefix": "del ",
     "library": "var_list.py",
     "varRefreshCmd": "print(var_dic_list())"
    },
    "r": {
     "delete_cmd_postfix": ") ",
     "delete_cmd_prefix": "rm(",
     "library": "var_list.r",
     "varRefreshCmd": "cat(var_dic_list()) "
    }
   },
   "types_to_exclude": [
    "module",
    "function",
    "builtin_function_or_method",
    "instance",
    "_Feature"
   ],
   "window_display": false
  }
 },
 "nbformat": 4,
 "nbformat_minor": 4
}