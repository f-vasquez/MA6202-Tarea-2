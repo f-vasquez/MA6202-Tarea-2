{
 "cells": [
  {
   "cell_type": "markdown",
   "metadata": {
    "colab_type": "text",
    "id": "pL1D_8eKVKwJ"
   },
   "source": [
    "# MA6202: Laboratorio de Ciencia de Datos\n",
    "\n",
    "**Profesor: Nicolás Caro**\\\n",
    "**Auxiliar: Rodrigo Lara M**\n",
    "\n",
    "**12/07/2020 - Tarea 2**\n",
    "\n",
    "\n",
    "**Integrantes del grupo**: Fabián Badilla M., Francisco Vásquez L., Javier Santibáñez M."
   ]
  },
  {
   "cell_type": "markdown",
   "metadata": {
    "colab_type": "text",
    "heading_collapsed": true,
    "id": "-SwppsHHVKwP"
   },
   "source": [
    "## Introducción"
   ]
  },
  {
   "cell_type": "markdown",
   "metadata": {
    "colab_type": "text",
    "hidden": true,
    "id": "v8TbP36CVKwT"
   },
   "source": [
    "La siguiente evaluación corresponde a la segunda tarea del curso de laboratorio de ciencia de datos. A lo largo de la tarea se trabaja sobre un problema de clasificación binaria de imágenes torácicas de rayos X, buscando predecir si la imagen corresponde a neumonía.\n",
    "\n",
    "Se evaluará la presentación de sus resultados por medio de un informe, las condiciones de entrega requeridas son:\n",
    "* La extensión máxima del informe es de 8 planas a las que puede añadir 2 para anexos.\n",
    "* Debe adjuntar un repositorio ``git`` donde se incluya todo su código.\n",
    "    * A lo menos 1 ``commit`` por cada pregunta de la tarea\n",
    "    * Por lo menos 1 ``merge`` a través de su trabajo.\n",
    "* Incluya un documento ``jupyter notebook`` llamado ``tarea2.ipynb`` en el cual se exponga todo el procedimiento realizado.\n",
    "* Por  ́ultimo es necesario también entregar un archivo *hdf* denominado ``modelo.h5`` que contenga los pesos del mejor modelo de red neuronal obtenido.\n",
    "\n",
    "Tenga  en  mente  que  su  informe  será  revisado  por  un  equipo  técnico  que  debe  entender  a  cabalidad  su metodología, ser capaz de replicarlo y evaluarlo a partir de su lectura."
   ]
  },
  {
   "cell_type": "markdown",
   "metadata": {
    "colab_type": "text",
    "heading_collapsed": true,
    "id": "k7pUF047VKwX"
   },
   "source": [
    "## P1. Carga y transformación de datos"
   ]
  },
  {
   "cell_type": "markdown",
   "metadata": {
    "colab_type": "text",
    "hidden": true,
    "id": "l3xJ4jtjVKwa"
   },
   "source": [
    "Al abordar un problema de clasificación de imágenes con redes neuronales profundas, es importante optimizar el proceso de carga de datos. Al tratarse de imágenes, es de esperar que no todas las muestras puedan ser almacenadas en memoria de manera simultanea, por lo que es necesario construir un *generador*. El objetivo de la sección es construir un *generador* de muestras eficiente, que minimice el tiempo de carga de datos y optimice el uso de memoria.\n",
    "\n",
    "El conjunto de datos a utilizar está disponible en este [link](https://data.mendeley.com/datasets/rscbjbr9sj/2/files/f12eaf6d-6023-432f-acc9-80c9d7393433/ChestXRay2017.zip). En la Figura 1 se observan algunas muestras de cada clase. La carpeta ``train`` consta de alrededor de $5.000$ imágenes y la carpeta ``test``, cerca de $600$. Al ser un conjunto de datos pequeño, se emplean técnicas de aumentación de datos que serán detalladas a continuación."
   ]
  },
  {
   "cell_type": "markdown",
   "metadata": {
    "colab_type": "text",
    "hidden": true,
    "id": "dfQuN4W5VKwd"
   },
   "source": [
    "1. Instancie objetos de la clase ``torchvision.datasets.DataFolder`` que le permitan cargar las imágenes de las carpetas ``train`` y ``test``. Además, Construya la función ``loader``, que permite cargar muestras de la base de datos. Note que existen imágenes que tienen 1 sólo canal, estas deben ser transformadas a 3 canales mediante concatenación. Dicho procedimiento debe ocurrir en la función ``loader``.\n",
    "En el parámetro ``transform``, instancie un objeto de la clase ``torchvision.transforms.Compose`` que componga las siguientes transformaciones:\n",
    "\n",
    "* Escalamiento de la imagen a un tamaño de $224\\times 224$ pixeles. Además escale los valores de brillo delos pixeles a valores entre $0$ y $1$, dividiendo por el valor máximo del tipo de dato ``uint8``\n",
    "* Con probabilidad $\\frac{1}{2}$, voltee la imagen en el eje horizontal.\n",
    "* Rote la imagen, con respecto a su centro, con un ángulo aleatorio entre -$20°$ y $20°$.\n",
    "* Multiplique los valores de brillo de cada canal por un número aleatorio entre $1,2$ y $1,5$. Cada pixel debeser multiplicado por un número potencialmente distinto, es decir, a cada valor de brillo corresponde un número aleatorio potencialmente diferente."
   ]
  },
  {
   "cell_type": "code",
   "execution_count": null,
   "metadata": {
    "colab": {
     "base_uri": "https://localhost:8080/",
     "height": 34
    },
    "colab_type": "code",
    "id": "wOmxicb9R7qc",
    "outputId": "8cc2a970-b76b-497d-a8f4-9b92ffffcb8a"
   },
   "outputs": [],
   "source": [
    "import torch\n",
    "\n",
    "torch.manual_seed(1919)"
   ]
  },
  {
   "cell_type": "code",
   "execution_count": null,
   "metadata": {
    "colab": {},
    "colab_type": "code",
    "id": "W0C_HrGaVKwg",
    "tags": []
   },
   "outputs": [],
   "source": [
    "import numpy as np\n",
    "import pandas as pd\n",
    "import matplotlib.pyplot as plt\n",
    "from torchvision.datasets import DatasetFolder\n",
    "from torchvision import transforms\n",
    "from PIL import Image"
   ]
  },
  {
   "cell_type": "code",
   "execution_count": null,
   "metadata": {
    "colab": {},
    "colab_type": "code",
    "id": "DEAtA41DVKxA"
   },
   "outputs": [],
   "source": [
    "def loader(input):\n",
    "    '''Funcion que carga la imagen, si es de 1 canal la pasa a 3 canales '''\n",
    "    image = Image.open(input)\n",
    "    img = image.split()\n",
    "    if len(img) == 1:\n",
    "        return Image.merge('RGB', (img[0], img[0], img[0]))\n",
    "    else:\n",
    "        return image"
   ]
  },
  {
   "cell_type": "code",
   "execution_count": null,
   "metadata": {
    "colab": {
     "base_uri": "https://localhost:8080/",
     "height": 275
    },
    "colab_type": "code",
    "id": "rYExsbdDVKxR",
    "outputId": "6a140d45-03e7-4310-be8b-11563e2e6820",
    "tags": []
   },
   "outputs": [],
   "source": [
    "'''Ejemplo de carga de imagenes '''\n",
    "img = loader('data\\\\chest_xray\\\\train\\\\PNEUMONIA\\\\person1_bacteria_1.jpeg')\n",
    "# print(img.size)\n",
    "plt.imshow(img)"
   ]
  },
  {
   "cell_type": "code",
   "execution_count": null,
   "metadata": {
    "colab": {},
    "colab_type": "code",
    "id": "wBRsil16VKxh"
   },
   "outputs": [],
   "source": [
    "'''Transformaciones necesarias '''\n",
    "\n",
    "def ajust_brillo(img):\n",
    "    '''Multiplica los valores de cada pixel por un número aleatorio entre 1.2 y 1.5 '''\n",
    "    return img.point(lambda i: i*np.random.uniform(1.2,1.5))\n",
    "\n",
    "transf = transforms.Compose([transforms.Resize([224, 224]),\n",
    "                             transforms.ColorJitter(brightness=(0,1)),\n",
    "                             transforms.RandomHorizontalFlip(p=0.5),\n",
    "                             transforms.RandomRotation(degrees=(-20,20)),\n",
    "                             transforms.Lambda(lambda x: ajust_brillo(x)),\n",
    "                             transforms.ToTensor()\n",
    "                            ])"
   ]
  },
  {
   "cell_type": "code",
   "execution_count": null,
   "metadata": {
    "colab": {},
    "colab_type": "code",
    "id": "76Qrr2naVKxz"
   },
   "outputs": [],
   "source": [
    "'''\n",
    "Data debe estar en carpeta: data/chest_xray\n",
    "Lo deje en gitignore porque pesa mucho y puede morir github\n",
    "'''\n",
    "data_train = DatasetFolder('data/chest_xray/train', loader = loader, extensions=('jpeg'), transform=transf)\n",
    "data_test = DatasetFolder('data/chest_xray/test', loader = loader, extensions=('jpeg'), transform=transf)"
   ]
  },
  {
   "cell_type": "code",
   "execution_count": null,
   "metadata": {
    "colab": {
     "base_uri": "https://localhost:8080/",
     "height": 286
    },
    "colab_type": "code",
    "id": "QNnLduSjVKyH",
    "outputId": "1bbeb4a1-1688-441a-db88-f1da20138be9",
    "tags": []
   },
   "outputs": [],
   "source": [
    "''' Otro ejemplo '''\n",
    "plt.imshow(data_train[0][0].permute(1, 2, 0), cmap=\"gray\")"
   ]
  },
  {
   "cell_type": "code",
   "execution_count": null,
   "metadata": {
    "colab": {},
    "colab_type": "code",
    "id": "7fnhTrRYR7r2"
   },
   "outputs": [],
   "source": [
    "def muestreo_plot_imagenes(n=5):\n",
    "    ''' Plotea n imagenes aleatorias del DatasetFolder train '''\n",
    "    fig, ax = plt.subplots(1,n,figsize=(15,8))\n",
    "    for k in range(n):\n",
    "        index = np.random.randint(len(data_train))\n",
    "        ax[k].imshow(data_train[index][0].permute(1, 2, 0),cmap=\"gray\")\n",
    "        if data_train[index][1] == 0:\n",
    "            ax[k].title.set_text('Normal')\n",
    "        else:\n",
    "            ax[k].title.set_text('Pneumonia')\n",
    "    plt.show()"
   ]
  },
  {
   "cell_type": "code",
   "execution_count": null,
   "metadata": {
    "colab": {
     "base_uri": "https://localhost:8080/",
     "height": 208
    },
    "colab_type": "code",
    "id": "me4wpFgoR7r_",
    "outputId": "ccd00a6a-1165-440a-fb14-0057d2f1ae3b"
   },
   "outputs": [],
   "source": [
    "muestreo_plot_imagenes()"
   ]
  },
  {
   "cell_type": "markdown",
   "metadata": {
    "colab_type": "text",
    "hidden": true,
    "id": "CaAAQ6eCVKy0"
   },
   "source": [
    "Mediante perfilamiento de tiempo de cómputo seleccione las herramientas que le parezcan óptimas para implementar las transformaciones anteriores. Puede utilizar las librerías ``pytorch``, ``PIL``, ``skimage`` u ``opencv``. Incluya en el reporte, una comparación con herramientas de 2 procesamientos de su elección.\n",
    "\n",
    "**Observación:**  Se  recomienda  realizar  por  completo  las  secciones **P1** y **P2** antes de fundamentar su selección."
   ]
  },
  {
   "cell_type": "code",
   "execution_count": null,
   "metadata": {
    "colab": {},
    "colab_type": "code",
    "id": "nlEJ1oKQVKy5"
   },
   "outputs": [],
   "source": [
    "'''Ahora con skimage '''\n",
    "import skimage\n",
    "from skimage import io\n",
    "\n",
    "def loader_sk(input):\n",
    "    '''Funcion que carga la imagen, si es de 1 canal la pasa a 3 canales, usando skimage '''\n",
    "    img = io.imread(input)\n",
    "    if len(img.shape) != 3:\n",
    "        return skimage.color.gray2rgb(img)\n",
    "    else:\n",
    "        return img"
   ]
  },
  {
   "cell_type": "code",
   "execution_count": null,
   "metadata": {
    "colab": {
     "base_uri": "https://localhost:8080/",
     "height": 275
    },
    "colab_type": "code",
    "id": "TQ_mUhoDVKzk",
    "outputId": "93ce1ec8-98f5-4757-aa12-dd400973620f"
   },
   "outputs": [],
   "source": [
    "'''Ejemplo de carga de imagenes con skimage '''\n",
    "img_sk = loader_sk('data\\\\chest_xray\\\\train\\\\PNEUMONIA\\\\person1_bacteria_1.jpeg')\n",
    "# print(img_sk.shape)\n",
    "# print(type(img_sk))\n",
    "plt.imshow(img_sk)"
   ]
  },
  {
   "cell_type": "code",
   "execution_count": null,
   "metadata": {
    "colab": {},
    "colab_type": "code",
    "id": "D1SF6p-MVKz8"
   },
   "outputs": [],
   "source": [
    "'''Transformaciones necesarias, usando skimage '''\n",
    "import skimage.transform as transform_sk\n",
    "from skimage.exposure import adjust_gamma\n",
    "\n",
    "def volteo_horizontal_random(image):\n",
    "    '''Con probabilidad  1/2, voltea la imagen en el eje horizontal '''\n",
    "    if np.random.choice([True,False], p = [0.5,0.5]):\n",
    "        return np.fliplr(image)\n",
    "    else:\n",
    "        return image\n",
    "\n",
    "def ajustar_brillo_random(image):\n",
    "    ''' Multiplica los valores de cada pixel por un número aleatorio entre 1.2 y 1.5 '''\n",
    "    for fila in range(image.shape[0]):\n",
    "        for col in range(image.shape[1]):\n",
    "                for canal in range(image.shape[2]):\n",
    "                    temporal = image[fila,col,canal]*np.random.uniform(1.2,1.5)\n",
    "                    if temporal > 1.0 :\n",
    "                      image[fila,col,canal] = 1\n",
    "                    else:\n",
    "                      image[fila,col,canal] = temporal\n",
    "    return image\n",
    "\n",
    "transf_sk = transforms.Compose([transforms.Lambda(lambda x: transform_sk.resize(x,output_shape=(224,224))),\n",
    "                                transforms.Lambda(lambda x: adjust_gamma(x,gamma=1/np.max(x))),\n",
    "                                transforms.Lambda(lambda x: volteo_horizontal_random(x)),\n",
    "                                transforms.Lambda(lambda x: transform_sk.rotate(x,np.random.uniform(-20,20))),\n",
    "                                transforms.Lambda(lambda x: ajustar_brillo_random(x)),\n",
    "                                transforms.ToTensor()\n",
    "                                ])"
   ]
  },
  {
   "cell_type": "code",
   "execution_count": null,
   "metadata": {
    "colab": {},
    "colab_type": "code",
    "id": "ExKqfk3BVK0O"
   },
   "outputs": [],
   "source": [
    "data_train_sk = DatasetFolder('data/chest_xray/train', loader = loader_sk, \n",
    "                              extensions=('jpeg'), transform=transf_sk)\n",
    "data_test_sk = DatasetFolder('data/chest_xray/test', loader = loader_sk, \n",
    "                             extensions=('jpeg'), transform=transf_sk)"
   ]
  },
  {
   "cell_type": "code",
   "execution_count": null,
   "metadata": {
    "colab": {
     "base_uri": "https://localhost:8080/",
     "height": 286
    },
    "colab_type": "code",
    "id": "K4c9HzsrVK0h",
    "outputId": "c5b3fb8a-e213-4eec-e6b2-a06f6aa1811e",
    "scrolled": true
   },
   "outputs": [],
   "source": [
    "''' Otro ejemplo, skimage '''\n",
    "plt.imshow(data_train_sk[0][0].permute(1, 2, 0), cmap=\"gray\")"
   ]
  },
  {
   "cell_type": "code",
   "execution_count": null,
   "metadata": {
    "colab": {
     "base_uri": "https://localhost:8080/",
     "height": 34
    },
    "colab_type": "code",
    "id": "mLGiKXAHVK01",
    "outputId": "ada83c1c-48d5-4260-b38d-04596e3f7d0e"
   },
   "outputs": [],
   "source": [
    "''' Perfilamiento con transformaciones pytorch, loader PIL '''\n",
    "%timeit -r 10 data_train[0][0]"
   ]
  },
  {
   "cell_type": "code",
   "execution_count": null,
   "metadata": {
    "colab": {
     "base_uri": "https://localhost:8080/",
     "height": 34
    },
    "colab_type": "code",
    "id": "fI33EakpVK1B",
    "outputId": "99bd6371-5c41-46e0-bdaf-0752eae097fe"
   },
   "outputs": [],
   "source": [
    "''' Perfilamiento con transformaciones skimage, loader skimage '''\n",
    "%timeit -r 10 data_train_sk[0][0]"
   ]
  },
  {
   "cell_type": "markdown",
   "metadata": {
    "colab_type": "text",
    "hidden": true,
    "id": "6l78NeDAVK1P"
   },
   "source": [
    "2. Visualice la cantidad de muestras de cada clase en las carpetas ``train`` y ``test``. Discuta sobre las implicancias de estas distribuciones."
   ]
  },
  {
   "cell_type": "code",
   "execution_count": null,
   "metadata": {
    "colab": {
     "base_uri": "https://localhost:8080/",
     "height": 204
    },
    "colab_type": "code",
    "id": "olZ7mo6eVK1R",
    "outputId": "1c61b309-a03a-4ddf-8606-50d13381c5f3"
   },
   "outputs": [],
   "source": [
    "data_train"
   ]
  },
  {
   "cell_type": "code",
   "execution_count": null,
   "metadata": {
    "colab": {},
    "colab_type": "code",
    "id": "WcWGuOCaVK1h"
   },
   "outputs": [],
   "source": [
    "def suma_clases(data):\n",
    "    '''Dado un DatasetFolder, retorna cantidad de datos en clase 0 y 1 '''\n",
    "    suma_c1 = sum(data.targets)\n",
    "    suma_c0 = len(data.targets)-suma_c1\n",
    "    return suma_c0, suma_c1"
   ]
  },
  {
   "cell_type": "code",
   "execution_count": null,
   "metadata": {
    "colab": {
     "base_uri": "https://localhost:8080/",
     "height": 142
    },
    "colab_type": "code",
    "id": "qMAOj4YHVK1u",
    "outputId": "f6641488-6b91-4751-fd87-cc5d51fffaa1"
   },
   "outputs": [],
   "source": [
    "c0_train, c1_train = suma_clases(data_train)\n",
    "c0_test, c1_test = suma_clases(data_test)\n",
    "\n",
    "clases = pd.DataFrame([[c0_train,c0_test], [c1_train,c1_test], \n",
    "                       [c0_train+c1_train,c0_test+c1_test]], \n",
    "                      columns=['Train','Test'],\n",
    "                      index=['Normal (Clase 0)', 'Pneumonia (Clase 1)','Total'])\n",
    "# print(clases.to_latex())\n",
    "clases"
   ]
  },
  {
   "cell_type": "code",
   "execution_count": null,
   "metadata": {
    "colab": {
     "base_uri": "https://localhost:8080/",
     "height": 450
    },
    "colab_type": "code",
    "id": "o7o-hNUEVK2R",
    "outputId": "21787dc0-4970-406a-a3d3-8dc8a6bd97e0",
    "scrolled": false
   },
   "outputs": [],
   "source": [
    "'''Bar plot distribucion conjunto train y test '''\n",
    "ax = clases[:2].T.plot.bar(rot=0,grid=True, figsize=(10,7), fontsize=13)\n",
    "for p in ax.patches:\n",
    "    ax.annotate(p.get_height(), (p.get_x()* 1.005+p.get_width()/2., p.get_height()*1.005),\n",
    "                ha='center',fontsize=13)\n",
    "plt.title('Distribución conjunto train y test',fontsize=15)\n",
    "plt.legend(fontsize=13)\n",
    "plt.show()"
   ]
  },
  {
   "cell_type": "markdown",
   "metadata": {
    "colab_type": "text",
    "hidden": true,
    "id": "ohXxRSwzVK2g"
   },
   "source": [
    "Debido a que el balance de clases es diferente entre la carpeta ``train`` de la carpeta ``test``, es necesario definir cual es la distribución de clases del *problema*. En lo que sigue, asumiremos que dicha distribución es la que presenta la carpeta ``test``. Esto quiere decir que en un entorno de producción, se espera recibir muestras distribuidas de manera similar a tal conjunto, que llamaremos *conjunto de prueba*."
   ]
  },
  {
   "cell_type": "markdown",
   "metadata": {
    "colab_type": "text",
    "hidden": true,
    "id": "_RDRzm3fVK2i"
   },
   "source": [
    "3. Separe los índices del objeto ``DataFolder`` de la carpeta ``train`` en un *conjunto de entrenamiento* y un *conjunto de validación*, con un $80$ y $20\\%$ de las muestras respectivamente. Construya la clase ``ReplicarMuestreoDePrueba`` que herede de ``torch.utils.data.Sampler`` y permita iterar sobre el conjunto de validación de tal forma que replique la distribución de clases del *conjunto de prueba*, mediante un sobremuestreo de la clase minoritaria. Esta clase debe poseer los métodos:\n",
    "    * ``__init__(self, etiquetas_prueba, indices_val, etiquetas_val):`` que guarde como atributos las variables necesarias para generar el muestreo deseado.\n",
    "    * ``__iter__(self):`` que entregue un ``iterator`` sobre los índices del muestreo deseado\n",
    "    \n",
    "*Hint:* Puede ser útil emplear ``numpy.random.choice``. Observe que tendrá índices de validación duplicados.\n",
    "\n",
    "**Observación:** Asuma que se trata de un problema de clasificación binaria."
   ]
  },
  {
   "cell_type": "code",
   "execution_count": null,
   "metadata": {
    "colab": {},
    "colab_type": "code",
    "id": "znzRGvZER7t4"
   },
   "outputs": [],
   "source": [
    "'''Separacion indices en train-validacion '''\n",
    "from sklearn.model_selection import train_test_split\n",
    "\n",
    "index_train, index_val = train_test_split(np.arange(len(data_train)), \n",
    "                                          test_size = .2, random_state=1919)\n",
    "'''Etiquetas de validacion '''\n",
    "y_val = np.array([data_train[x][1] for x in index_val])"
   ]
  },
  {
   "cell_type": "code",
   "execution_count": null,
   "metadata": {
    "colab": {},
    "colab_type": "code",
    "id": "N5O2weltVK20",
    "outputId": "ad40dd9a-0275-4d61-aa7b-7a76aa9e64a8",
    "tags": []
   },
   "outputs": [],
   "source": [
    "print('Tamaño conjunto de entrenamiento: ', len(index_train))\n",
    "print('Tamaño conjunto de validacion: ', len(index_val))"
   ]
  },
  {
   "cell_type": "code",
   "execution_count": null,
   "metadata": {
    "colab": {},
    "colab_type": "code",
    "id": "-EHuRhNhVK3C"
   },
   "outputs": [],
   "source": [
    "from torch.utils.data import Sampler\n",
    "\n",
    "class ReplicarMuestreoDePrueba(Sampler):\n",
    "    '''\n",
    "    Permite iterar sobre el conjunto de validación tal que replica la distribución\n",
    "    de clases del conjunto de prueba, mediante un sobremuestreo de la clase minoritaria \n",
    "    '''\n",
    "    def __init__(self, etiquetas_prueba, indices_val, etiquetas_val):\n",
    "        self.etiquetas_prueba = etiquetas_prueba\n",
    "        self.indices_val = indices_val\n",
    "        self.etiquetas_val = etiquetas_val\n",
    "\n",
    "    def __iter__(self):\n",
    "        p_test = np.sum(self.etiquetas_prueba)/len(self.etiquetas_prueba) # prob de ser 1, en testeo\n",
    "        if p_test < 0.5:\n",
    "            p_vect = self.etiquetas_val\n",
    "        else:\n",
    "            p_vect = 1 - self.etiquetas_val\n",
    "        p_vect = p_vect/np.sum(p_vect) # debe sumar 1\n",
    "        sampleo = self.indices_val\n",
    "        sampleo_eti = self.etiquetas_val\n",
    "        p_sampleo = np.sum(sampleo_eti)/len(sampleo_eti)\n",
    "        num_iter = 1e4\n",
    "        i=0\n",
    "        while abs(p_sampleo - p_test) > 1e-3 and i < num_iter:\n",
    "            index = np.random.choice(np.arange(len(self.indices_val)), size=1, p=p_vect)\n",
    "            sampleo = np.append(sampleo, self.indices_val[index])\n",
    "            sampleo_eti = np.append(sampleo_eti, self.etiquetas_val[index])\n",
    "            p_sampleo = np.sum(sampleo_eti)/len(sampleo_eti)\n",
    "            i+=1\n",
    "        return iter(sampleo)"
   ]
  },
  {
   "cell_type": "code",
   "execution_count": null,
   "metadata": {
    "colab": {
     "base_uri": "https://localhost:8080/",
     "height": 34
    },
    "colab_type": "code",
    "id": "5w92IH__R7uN",
    "outputId": "6704463c-386a-4430-86f9-b56b8866501c"
   },
   "outputs": [],
   "source": [
    "'''Distribucion conjunto de test '''\n",
    "y_test = np.array([obs[1] for obs in data_test])\n",
    "np.sum(y_test)/len(y_test)"
   ]
  },
  {
   "cell_type": "code",
   "execution_count": null,
   "metadata": {
    "colab": {
     "base_uri": "https://localhost:8080/",
     "height": 68
    },
    "colab_type": "code",
    "id": "q0Cnm9mWVK3d",
    "outputId": "54a9e519-bbb0-4ce9-c325-377a6c08beef",
    "tags": []
   },
   "outputs": [],
   "source": [
    "'''Se comprueba que samplea distribucion similar a la de test '''\n",
    "Sampleo = ReplicarMuestreoDePrueba(y_test, index_val, y_val)\n",
    "el_iter = Sampleo.__iter__()\n",
    "prueba = [y_val[list(index_val).index(x)] for x in el_iter]\n",
    "\n",
    "print('Distribucion previa: ', np.sum(y_val)/len(y_val))\n",
    "print('Cantidad nuevos agregados: ', len(prueba)-len(y_val))\n",
    "print('Distribucion nueva: ', np.sum(prueba)/len(prueba)) "
   ]
  },
  {
   "cell_type": "markdown",
   "metadata": {
    "colab_type": "text",
    "hidden": true,
    "id": "1-qcOprDVK3p"
   },
   "source": [
    "4. Instancie objetos de la clase ``torch.utils.data.DataLoader`` para recorrer sus conjuntos de entrenamiento, validación y prueba. Para ello utilice los objetos adecuados en el parámetro ``sampler``. Discuta en el reporte las implicancias en tiempos de cómputo del parámetro ``num_workers``\n",
    "\n",
    "*Hint:* Puede ser útil usar la clase ``torch.utils.data.sampler.SubsetRandomSampler`` para el *conjunto de entrenamiento* y ``torch.utils.data.RandomSampler`` para el *conjunto de prueba*.\n",
    "\n",
    "**Observación:** Se recomienda realizar por completo las secciones **P1** y **P2** para fundamentar su discusión. Además, como referencia, en ``Colaboratory`` el parámetro ``batch_size=16`` es compatible con los recursos de la plataforma"
   ]
  },
  {
   "cell_type": "code",
   "execution_count": null,
   "metadata": {
    "colab": {},
    "colab_type": "code",
    "id": "z8Y41VWQVK3-"
   },
   "outputs": [],
   "source": [
    "from torch.utils.data import DataLoader, RandomSampler\n",
    "from torch.utils.data.sampler import SubsetRandomSampler\n",
    "\n",
    "train_DL = DataLoader(data_train, batch_size=16,\n",
    "                      sampler = SubsetRandomSampler(index_train))\n",
    "valid_DL = DataLoader(data_train, batch_size=16,\n",
    "                      sampler = ReplicarMuestreoDePrueba(y_test, index_val, y_val))\n",
    "test_DL = DataLoader(data_test, batch_size=16,\n",
    "                     sampler = RandomSampler(data_test))"
   ]
  },
  {
   "cell_type": "code",
   "execution_count": null,
   "metadata": {
    "colab": {},
    "colab_type": "code",
    "id": "t3Rnhw64R7uo"
   },
   "outputs": [],
   "source": [
    "'''Comparacion tiempos de cómputo del parámetro num_workers '''\n",
    "def DL_num_workers(n=0):\n",
    "    '''Recorre DataLoader del conjunto de train, usando n num_workers '''\n",
    "    train_DL = DataLoader(data_train, batch_size=16, num_workers = n,\n",
    "                      sampler = SubsetRandomSampler(index_train))\n",
    "    i = 0\n",
    "    for x in train_DL:\n",
    "        if i > 1:\n",
    "            break\n",
    "        i +=1"
   ]
  },
  {
   "cell_type": "code",
   "execution_count": null,
   "metadata": {
    "colab": {
     "base_uri": "https://localhost:8080/",
     "height": 34
    },
    "colab_type": "code",
    "id": "iMPV4etwR7ut",
    "outputId": "ce3c201c-7b97-4397-be89-a41984070a9a",
    "scrolled": true
   },
   "outputs": [],
   "source": [
    "%timeit DL_num_workers()"
   ]
  },
  {
   "cell_type": "code",
   "execution_count": null,
   "metadata": {
    "colab": {
     "base_uri": "https://localhost:8080/",
     "height": 34
    },
    "colab_type": "code",
    "id": "VFrySjizR7u2",
    "outputId": "9aa650c6-fd97-4c1d-937a-7d7356b1f2a1",
    "scrolled": false
   },
   "outputs": [],
   "source": [
    "%timeit DL_num_workers(1)"
   ]
  },
  {
   "cell_type": "code",
   "execution_count": null,
   "metadata": {
    "colab": {
     "base_uri": "https://localhost:8080/",
     "height": 34
    },
    "colab_type": "code",
    "id": "J0nYgOk3R7vB",
    "outputId": "4336188f-71c0-4fc1-8395-51c5ba5cb586"
   },
   "outputs": [],
   "source": [
    "%timeit DL_num_workers(2)"
   ]
  },
  {
   "cell_type": "code",
   "execution_count": null,
   "metadata": {
    "colab": {
     "base_uri": "https://localhost:8080/",
     "height": 34
    },
    "colab_type": "code",
    "id": "tNw_9eshYo5n",
    "outputId": "dd9c6310-ad81-4452-b265-90d3df1545c4"
   },
   "outputs": [],
   "source": [
    "%timeit DL_num_workers(3)"
   ]
  },
  {
   "cell_type": "code",
   "execution_count": null,
   "metadata": {
    "colab": {
     "base_uri": "https://localhost:8080/",
     "height": 34
    },
    "colab_type": "code",
    "id": "m_rykwALY4XX",
    "outputId": "796257ad-c3ab-49ef-bcd4-c75618974edd"
   },
   "outputs": [],
   "source": [
    "%timeit DL_num_workers(4)"
   ]
  },
  {
   "cell_type": "markdown",
   "metadata": {
    "colab_type": "text",
    "heading_collapsed": true,
    "id": "LZ_Lx5D3VK4o"
   },
   "source": [
    "## P2. Redes convolucionales profundas"
   ]
  },
  {
   "cell_type": "markdown",
   "metadata": {
    "colab_type": "text",
    "hidden": true,
    "id": "MFmmRzyGVK4v"
   },
   "source": [
    "El objetivo de esta sección es construir una red neuronal profunda para el problema de clasificación de imágenes de rayos X sobre neumonía. Dicha red debe ser implementada en ``Pytorch``.\n",
    "\n",
    "<img src=\"https://miro.medium.com/max/1400/1*yG6z6ESzsRW-9q5F_neOsg.png\" alt=\"drawing\" style=\"width:600px;\" title=\"(a) Capa de convolución depthwise\"/>\n",
    "<img src=\"https://miro.medium.com/max/1400/1*Q7a20gyuunpJzXGnWayUDQ.png\" alt=\"drawing\" style=\"width:600px;\" title=\"(b) Capa de convolución pointwise\"/>\n",
    "\n",
    "<center>Figura 2: Componentes de la capa de convolución <em>Depthwise Separable Convolution</em></center>\n",
    "\n",
    "\n",
    "Se implementa un tipo de capa de convolución conocida como *Dephtwise Separable Convolution*. Esta consiste en separar una capa de $k$ filtros de convolución de tamaño $n\\times n$, i.e. definida por $k$ filtros de tamaño $n\\times n\\times c$ (donde $c$ representa el número de canales) en dos capas de convolución:\n",
    "\n",
    "* Una capa de convolución llamada *Depthwise*, definida por $c$ filtros de tamaño $n\\times n\\times 1$, donde cada canal de entrada es convolucionado con su respectivo filtro, obteniéndose así un volumen de salida de $c$ canales. En la figura 2a se ilustra lo mencionado para $n= 5$, $c= 3$ y un $stride= 1$.\n",
    "\n",
    "\n",
    "* Una capa de convolución llamada *pointwise*, definida por $k$ filtros de tamaño $1\\times 1\\times c$ que se aplica al volumen de salida de la capa *depthwise*. En la figura 2b se muestra su funcionamiento para $c= 3$ y $k= 256$. Cabe notar que la función de activación se aplica sólo en el volumen de salida de esta capa.\n",
    "\n",
    "\n",
    "1. Construya la clase de ``DWSepConv2d`` que herede de ``torch.nn`` y haga overriding de los métodos ``__init__`` y ``forward``.  El  primero  debe  recibir  como  parámetros: ``in_channels``, ``out_channels``, ``kernel_size``, ``padding``, ``bias=True``. Estos tienen el significado usual empleados en los módulos ``torch.nn``.\n",
    "\n",
    "*Hint:* Observe que para el ejemplo de la Figura 2 los parámetros tomarían los valores ``in_channels=3``, ``out_channels=256`` y ``kernel_size=5``."
   ]
  },
  {
   "cell_type": "code",
   "execution_count": null,
   "metadata": {
    "ExecuteTime": {
     "end_time": "2020-07-16T20:19:53.771216Z",
     "start_time": "2020-07-16T20:19:53.376272Z"
    },
    "colab": {},
    "colab_type": "code",
    "hidden": true,
    "id": "RzGdrqF1yxvU"
   },
   "outputs": [],
   "source": [
    "# Imports:\n",
    "import torch\n",
    "from torch import nn, optim\n",
    "import torch.nn.functional as F\n",
    "import torchvision.models as models\n",
    "from torchsummary import summary\n",
    "from torch.utils.data import DataLoader, RandomSampler\n",
    "from torch.utils.data.sampler import SubsetRandomSampler\n",
    "\n",
    "import pandas as pd\n",
    "import numpy as np\n",
    "from collections import OrderedDict\n",
    "\n",
    "from sklearn.metrics import accuracy_score, f1_score"
   ]
  },
  {
   "cell_type": "code",
   "execution_count": null,
   "metadata": {
    "ExecuteTime": {
     "end_time": "2020-07-16T20:19:53.807120Z",
     "start_time": "2020-07-16T20:19:53.801136Z"
    },
    "colab": {},
    "colab_type": "code",
    "hidden": true,
    "id": "1Omsczi1m3oM"
   },
   "outputs": [],
   "source": [
    "class DWSepConv2d(nn.Module):\n",
    "    def __init__(self, in_channels, out_channels, kernel_size, padding, bias=True):\n",
    "        super().__init__()\n",
    "        self.depthwise = nn.Conv2d(in_channels, in_channels, kernel_size=kernel_size, \n",
    "                                   stride=1,groups=in_channels, padding=padding, bias=bias)\n",
    "        self.pointwise = nn.Conv2d(in_channels, out_channels, kernel_size=1,\n",
    "                                   stride=1, bias=bias)\n",
    "        \n",
    "    def forward(self, x):\n",
    "        x = self.depthwise(x.float())\n",
    "        x = F.relu(self.pointwise(x))\n",
    "        return x"
   ]
  },
  {
   "cell_type": "markdown",
   "metadata": {
    "colab_type": "text",
    "hidden": true,
    "id": "7krE9kwbVK5H"
   },
   "source": [
    "2. Construya una red convolucional profunda mediante la clase ``VGG16DWSep`` que hereda ``torch.nn`` y hace overriding de los métodos ``__init__`` y ``forward``, de tal manera que la red posea la estructura detallada en la Tabla 1.  \n",
    "  \n",
    "  Obtenga el número de parámetros que tiene esta estructura y el número de parámetros que habrían sido utilizados si todas las capas ``DWSepConv2d`` hubiesen sido ``Conv2d``. Discuta la ganancia en tiempo de cómputo en entrenamiento y prueba."
   ]
  },
  {
   "cell_type": "markdown",
   "metadata": {
    "colab_type": "text",
    "hidden": true,
    "id": "KJkrzLXfyxvq"
   },
   "source": [
    "|     capa    | tamaño filtro | padding | stride | # filtros |\n",
    "|:-----------:|:-------------:|:-------:|:------:|:---------:|\n",
    "|    Conv2d   |       3       |    1    |    1   |     64    |\n",
    "|    Conv2d   |       3       |    1    |    1   |     64    |\n",
    "|  MaxPool2d  |       2       |    0    |    2   |     -     |\n",
    "| DWSepConv2d |       3       |    1    |    1   |    128    |\n",
    "| DWSepConv2d |       3       |    1    |    1   |    128    |\n",
    "|  MaxPool2d  |       2       |    0    |    2   |     -     |\n",
    "| DWSepConv2d |       3       |    1    |    1   |    256    |\n",
    "| BatchNorm2d |       -       |    -    |    -   |     -     |\n",
    "| DWSepConv2d |       3       |    1    |    1   |    256    |\n",
    "| BatchNorm2d |       -       |    -    |    -   |     -     |\n",
    "| DWSepConv2d |       3       |    1    |    1   |    256    |\n",
    "|  MaxPool2d  |       2       |    0    |    2   |     -     |\n",
    "| DWSepConv2d |       3       |    1    |    1   |    512    |\n",
    "| BatchNorm2d |       -       |    -    |    -   |     -     |\n",
    "| DWSepConv2d |       3       |    1    |    1   |    512    |\n",
    "| BatchNorm2d |       -       |    -    |    -   |     -     |\n",
    "| DWSepConv2d |       3       |    1    |    1   |    512    |\n",
    "|  MaxPool2d  |       2       |    0    |    2   |     -     |\n",
    "|   Flatten   |       -       |    -    |    -   |     -     |\n",
    "|    Linear   |       -       |    -    |    -   |    1024   |\n",
    "| Dropout(.7) |       -       |    -    |    -   |     -     |\n",
    "|    Linear   |       -       |    -    |    -   |    512    |\n",
    "| Dropout(.5) |       -       |    -    |    -   |     -     |\n",
    "|    Linear   |       -       |    -    |    -   |     2     |\n",
    "\n",
    "  \n",
    "  <center>Tabla 1: Estructura de la red VGG16DWSep</center>"
   ]
  },
  {
   "cell_type": "code",
   "execution_count": null,
   "metadata": {
    "ExecuteTime": {
     "end_time": "2020-07-16T20:19:58.931173Z",
     "start_time": "2020-07-16T20:19:58.915216Z"
    },
    "code_folding": [
     3,
     31
    ],
    "colab": {},
    "colab_type": "code",
    "hidden": true,
    "id": "U3nuijrCyxvc"
   },
   "outputs": [],
   "source": [
    "class VGG16DWSep(nn.Module):\n",
    "    \"\"\"Red neuronal profunda VGG16 con separación Depthwise \n",
    "    descrita en la tabla 1 del enunciado\"\"\"\n",
    "    def __init__(self):\n",
    "        \"\"\"Se hereda init y se definen todas las capas que participaran\"\"\" \n",
    "        super().__init__()\n",
    "        self.dw1 = DWSepConv2d(64, 128, 3, 1)\n",
    "        self.dw2 = DWSepConv2d(128,128, 3, 1)\n",
    "        self.dw3 = DWSepConv2d(128,256, 3, 1)\n",
    "        self.dw4 = DWSepConv2d(256,256, 3, 1)\n",
    "        self.dw5 = DWSepConv2d(256,256, 3, 1)\n",
    "        self.dw6 = DWSepConv2d(256,512, 3, 1)\n",
    "        self.dw7 = DWSepConv2d(512,512, 3, 1)\n",
    "        self.dw8 = DWSepConv2d(512,512, 3, 1)\n",
    "        self.conv1 = nn.Conv2d(3, 64, 3, stride=1, padding=1)\n",
    "        self.conv2 = nn.Conv2d(64,64, 3, stride=1, padding=1)\n",
    "        self.max1 = nn.MaxPool2d(kernel_size=2, stride=2, padding=0)\n",
    "        self.max2 = nn.MaxPool2d(kernel_size=2, stride=2, padding=0)\n",
    "        self.max3 = nn.MaxPool2d(kernel_size=2, stride=2, padding=0)\n",
    "        self.max4 = nn.MaxPool2d(kernel_size=2, stride=2, padding=0)\n",
    "        self.bat1= nn.BatchNorm2d(256)\n",
    "        self.bat2= nn.BatchNorm2d(256)\n",
    "        self.bat3= nn.BatchNorm2d(512)\n",
    "        self.bat4= nn.BatchNorm2d(512)\n",
    "        self.lin1= nn.Linear(100352, 1024)\n",
    "        self.lin2= nn.Linear(1024,512)\n",
    "        self.lin3= nn.Linear(512,2)\n",
    "        self.drop1=nn.Dropout(p=0.7)\n",
    "        self.drop2=nn.Dropout(p=0.5)\n",
    "        self.flat= nn.Flatten()\n",
    "        \n",
    "    def forward(self, x):\n",
    "        \"\"\"Se define el proceso en el orden que indica la tabla, usando la\n",
    "        funcion de activacion ReLU donde corresponda\"\"\"\n",
    "        x = x.view(-1,3,224,224)\n",
    "        x = F.relu(self.conv1(x.float()))\n",
    "        x = F.relu(self.conv2(x))\n",
    "        x = self.max1(x)\n",
    "        x = self.dw1(x)\n",
    "        x = self.dw2(x)\n",
    "        x = self.max2(x)\n",
    "        x = self.dw3(x)\n",
    "        x = F.relu(self.bat1(x))\n",
    "        x = self.dw4(x)\n",
    "        x = F.relu(self.bat2(x))\n",
    "        x = self.dw5(x)\n",
    "        x = self.max3(x)\n",
    "        x = self.dw6(x)\n",
    "        x = F.relu(self.bat3(x))\n",
    "        x = self.dw7(x)\n",
    "        x = F.relu(self.bat4(x))\n",
    "        x = self.dw8(x)\n",
    "        x = self.max4(x)\n",
    "        x = self.flat(x)\n",
    "        x = F.relu(self.lin1(x))\n",
    "        x = self.drop1(x)\n",
    "        x = F.relu(self.lin2(x))\n",
    "        x = self.drop2(x)\n",
    "        x = F.relu(self.lin3(x))\n",
    "        return x"
   ]
  },
  {
   "cell_type": "code",
   "execution_count": null,
   "metadata": {
    "ExecuteTime": {
     "end_time": "2020-07-16T20:13:52.470309Z",
     "start_time": "2020-07-16T20:13:52.456347Z"
    },
    "code_folding": [
     3,
     23
    ],
    "hidden": true
   },
   "outputs": [],
   "source": [
    "# Modo simio\n",
    "class VGG16_Conv(nn.Module):\n",
    "    \"\"\"Red equivalente a la anterior pero sin separacion depthwise\"\"\"\n",
    "    def __init__(self):\n",
    "        super().__init__()\n",
    "        self.conv1 = nn.Conv2d(3, 64, kernel_size=3, stride=1, padding=1)\n",
    "        self.conv2 = nn.Conv2d(64,64, kernel_size=3, stride=1, padding=1)\n",
    "        self.max = nn.MaxPool2d(kernel_size=2, stride=2, padding=0)\n",
    "        self.dw1 = nn.Conv2d(64, 128, 3, 1, 1)\n",
    "        self.dw2 = nn.Conv2d(128,128, 3, 1, 1)\n",
    "        self.dw3 = nn.Conv2d(128,256, 3, 1, 1)\n",
    "        self.bat1= nn.BatchNorm2d(256)\n",
    "        self.bat2= nn.BatchNorm2d(512)\n",
    "        self.dw4 = nn.Conv2d(256,256, 3, 1, 1)\n",
    "        self.dw5 = nn.Conv2d(256,512, 3, 1, 1)\n",
    "        self.dw6 = nn.Conv2d(512,512, 3, 1, 1)\n",
    "        self.flat= nn.Flatten()\n",
    "        self.lin1= nn.Linear(14*14*512, 1024)\n",
    "        self.drop1=nn.Dropout(p=0.7)\n",
    "        self.lin2= nn.Linear(1024,512)\n",
    "        self.drop2=nn.Dropout(p=0.5)\n",
    "        self.lin3= nn.Linear(512,2)\n",
    "        \n",
    "    def forward(self, x):\n",
    "        x = x.view(-1,3,224,224)\n",
    "        x = F.relu(self.conv1(x.float()))\n",
    "        x = F.relu(self.conv2(x))\n",
    "        x = self.max(x)\n",
    "        x = F.relu(self.dw1(x))\n",
    "        x = F.relu(self.dw2(x))\n",
    "        x = self.max(x)\n",
    "        x = F.relu(self.dw3(x))\n",
    "        x = F.relu(self.bat1(x))\n",
    "        x = F.relu(self.dw4(x))\n",
    "        x = F.relu(self.bat1(x))\n",
    "        x = F.relu(self.dw4(x))\n",
    "        x = self.max(x)\n",
    "        x = F.relu(self.dw5(x))\n",
    "        x = F.relu(self.bat2(x))\n",
    "        x = F.relu(self.dw6(x))\n",
    "        x = F.relu(self.bat2(x))\n",
    "        x = F.relu(self.dw6(x))\n",
    "        x = self.max(x)\n",
    "        x = self.flat(x)\n",
    "        x = F.relu(self.lin1(x))\n",
    "        x = self.drop1(x)\n",
    "        x = F.relu(self.lin2(x))\n",
    "        x = self.drop2(x)\n",
    "        x = F.relu(self.lin3(x))\n",
    "        return x"
   ]
  },
  {
   "cell_type": "code",
   "execution_count": null,
   "metadata": {
    "ExecuteTime": {
     "end_time": "2020-07-16T03:34:54.116583Z",
     "start_time": "2020-07-16T03:34:51.549361Z"
    },
    "hidden": true
   },
   "outputs": [],
   "source": [
    "\"\"\"Se instancia un objeto de la clase VGG16 sin separación y a travez de\n",
    "summary, se observa cuantos parametros entrena\"\"\"\n",
    "mdl = VGG16_Conv()\n",
    "summary(mdl.cuda(), (3,224,224))"
   ]
  },
  {
   "cell_type": "code",
   "execution_count": null,
   "metadata": {
    "ExecuteTime": {
     "end_time": "2020-07-16T03:34:54.796616Z",
     "start_time": "2020-07-16T03:34:54.146504Z"
    },
    "colab": {
     "base_uri": "https://localhost:8080/",
     "height": 937
    },
    "colab_type": "code",
    "hidden": true,
    "id": "zAnApKVFm3oX",
    "outputId": "2bc69a8e-4d88-4e19-9590-9e33b8de2a05"
   },
   "outputs": [],
   "source": [
    "\"\"\"Se instancia un objeto de la clase VGG16DWSep y se vuelve a observar\n",
    "la cantidad de parametros\"\"\"\n",
    "mdl = VGG16DWSep()\n",
    "summary(mdl.cuda(), (3,224,224))"
   ]
  },
  {
   "cell_type": "markdown",
   "metadata": {
    "colab_type": "text",
    "hidden": true,
    "id": "PjDEfYdCVK5Z"
   },
   "source": [
    "3. Transfiera los pesos de las dos primeras capas de convolución de la red ``VGG16`` preentrenada en *imageNet* a las dos primeras capas de la red ``VGG16DWSep`` construida y manténgalos constantes durante el entrenamiento."
   ]
  },
  {
   "cell_type": "code",
   "execution_count": null,
   "metadata": {
    "ExecuteTime": {
     "end_time": "2020-07-16T03:34:55.916211Z",
     "start_time": "2020-07-16T03:34:54.826559Z"
    },
    "colab": {},
    "colab_type": "code",
    "hidden": true,
    "id": "vAgMC3cGyxvk"
   },
   "outputs": [],
   "source": [
    "\"\"\" Se carga el modelo pre-entrenado: \"\"\"\n",
    "vgg16 = models.vgg16(pretrained=True)\n",
    "\n",
    "\"\"\"Se transfieren los pesos:\"\"\"\n",
    "mdl.conv1.weight.data = vgg16.features[0].weight.clone()\n",
    "mdl.conv2.weight.data = vgg16.features[2].weight.clone()\n",
    "\n",
    "\"\"\" Se mantienen constantes: \"\"\"\n",
    "for i, param in enumerate(mdl.parameters()):\n",
    "    if i in [0,2]:\n",
    "        param.requires_grad=False\n",
    "    if i>3:\n",
    "        break\n",
    "\n",
    "\"\"\"Se borra el modelo pre-entrenado para ahorrar memoria\"\"\"\n",
    "del(vgg16)\n",
    "torch.cuda.empty_cache()"
   ]
  },
  {
   "cell_type": "markdown",
   "metadata": {
    "colab_type": "text",
    "hidden": true,
    "id": "oUR-fgmMVK5x"
   },
   "source": [
    "Al entrenar redes neuronales profundas, es usual emplear una heurística de regularización llamada *Early Stopping* que consiste en monitorear alguna métrica de desempeño (usualmente la función de costo) en un conjunto de validación, para así detener el entrenamiento cuando dicha métrica empeora de forma sostenida.\n",
    "\n",
    "En el siguiente fragmento de código ilustramos el uso de la heurística implementada en la clase ``EarlyStopping``:\n",
    "```c\n",
    "es = EarlyStopping (...)\n",
    "for  epoch in range(num_epochs):\n",
    "    # ciclo de entrenamiento\n",
    "    ...\n",
    "\n",
    "    # ciclo de validacion\n",
    "    ...\n",
    "\n",
    "    metrica_validacion = ...\n",
    "\n",
    "    if es.deberia_parar(metrica_validacion):\n",
    "        # se cumple el criterio de \"early stop\"\n",
    "        break\n",
    "```\n",
    "\n",
    "<center>Listing 1: Funcionamiento de la heurística Early Stopping</center>"
   ]
  },
  {
   "cell_type": "markdown",
   "metadata": {
    "colab_type": "text",
    "hidden": true,
    "id": "OfZwhwxCVK50"
   },
   "source": [
    "4. Programe la clase ``EarlyStopping``. Cuyo objetivo es implementar la heurística mencionada. Esta debe poseer los siguientes métodos:\n",
    "    * ``__init__(self, modo=’min’, paciencia=5, porcentaje=False, tol=0):`` donde los parámetros:\n",
    "\n",
    "        * ``modo``:  toma  valores  en ``’min’`` o ``’max’``.  Este  define  si  la  métrica  obtenida  en  el  conjunto de validación es considerada mejor al ser más pequeña o más grande según respectivamente.\n",
    "        * ``paciencia``: define el número de épocas en la que la métrica de validación puede empeorar sin detener el entrenamiento.\n",
    "        * ``porcentaje``: define si la comparación entre métricas de desempeño en validación, deben realizarse en términos relativos (como porcentaje de a la mejor métrica de desempeño observada) o absolutos.\n",
    "        * ``tol``: define la diferencia mínima que debe existir con respecto la mejor métrica de desempeño observada en validación, para considerar si existe un empeoramiento del desempeño y actualizar el valor del contador asociado a ``paciencia``.\n",
    "        \n",
    "     Se deja a criterio del equipo la definición de atributos para el correcto funcionamiento de la clase.  \n",
    "       \n",
    " * ``mejor(self, metrica_validacion):`` que compare la ``metrica_validacion`` con la mejor métrica de desempeño ya observada.  Dicha comparación debe realizarse considerando los parámetros ``modo``, ``porcentaje`` y ``tol``, y debe retornar ``True`` o ``False``.\n",
    " * ``deberia_parar(self, metrica_validacion):`` que llame al método ``mejor`` y retorne ``True`` cuando la cantidad de épocas en que ``metrica_validacion`` empeora con respecto a la mejor. métrica de desempeño observada sea igual a ``paciencia``. En caso contrario retorna ``False``."
   ]
  },
  {
   "cell_type": "code",
   "execution_count": null,
   "metadata": {
    "ExecuteTime": {
     "end_time": "2020-07-16T03:34:56.106734Z",
     "start_time": "2020-07-16T03:34:56.096761Z"
    },
    "code_folding": [
     2,
     11,
     36
    ],
    "colab": {},
    "colab_type": "code",
    "hidden": true,
    "id": "6hIPUllVyxv0"
   },
   "outputs": [],
   "source": [
    "class EarlyStopping():\n",
    "    \"\"\"Clase que para aplicar la heuristica señalada\"\"\"\n",
    "    def __init__(self, modo='min', paciencia=5, porcentaje=False, tol=0):\n",
    "        assert(modo in ['min','max'])\n",
    "        self.modo=modo\n",
    "        self.paciencia=paciencia\n",
    "        self.porcentaje=porcentaje\n",
    "        self.tol=tol\n",
    "        self.__metricas_obs=[]\n",
    "        self.vidas=paciencia\n",
    "            \n",
    "    def mejor(self, metrica_validacion, guardar=True):\n",
    "        \"\"\"metodo mejor: retorna True si la metrica a evaluar es mejor que\n",
    "        todas las anteriores registradas. Tambien se permite guardar o no \n",
    "        la metrica a evaluar\"\"\"\n",
    "        if self.__metricas_obs==[]:\n",
    "            if guardar:\n",
    "                self.__metricas_obs.append(metrica_validacion)\n",
    "            return True\n",
    "        elif self.modo=='min':\n",
    "            mejor = min(self.__metricas_obs)\n",
    "            if guardar:\n",
    "                self.__metricas_obs.append(metrica_validacion)\n",
    "            if self.porcentaje:\n",
    "                return 100*metrica_validacion/mejor - self.tol < 1\n",
    "            else:\n",
    "                return metrica_validacion - self.tol < mejor\n",
    "        else:\n",
    "            mejor = max(self.__metricas_obs)\n",
    "            if guardar:\n",
    "                self.__metricas_obs.append(metrica_validacion)\n",
    "            if self.porcentaje:\n",
    "                return 100*metrica_validacion/mejor + self.tol > 1\n",
    "            else:\n",
    "                return metrica_validacion + self.tol > mejor\n",
    "        \n",
    "    def deberia_parar(self, metrica_validacion):\n",
    "        \"\"\"Retorna True cuando al proceso se le agota la paciencia,\n",
    "        si el proceso mejora, reinicia la paciencia al valor original\"\"\"\n",
    "        if self.mejor(metrica_validacion):\n",
    "            self.vidas = self.paciencia\n",
    "            return False\n",
    "        else:\n",
    "            if self.vidas==1:\n",
    "                return True\n",
    "            else:\n",
    "                self.vidas -= 1\n",
    "                return False"
   ]
  },
  {
   "cell_type": "markdown",
   "metadata": {
    "colab_type": "text",
    "hidden": true,
    "id": "9MsHx_AoVK6D"
   },
   "source": [
    "5. Implemente el ciclo de entrenamiento de la red ``VGG16DWSep`` utilizando una instancia de la clase ``EarlyStopping`` según el esquema de Listing 1 con sus parámetros por defecto y además vaya guardando los pesos del mejor modelo obtenido a través de las épocas. Para dicho ciclo de entrenamiento use:\n",
    "    * *Entropía cruzada* como función de costo.\n",
    "    * *Adam* cómo algoritmo de optimización, con parámetros ``lr=1e-4`` y ``weight_decay=1e-5``.\n",
    "    \n",
    "Reporte sus resultados en términos de *accuracy* y *f1-score*. Compruebe que obtiene resultados superiores a $,75$ y $,8$ respectivamente. *Hint:* Por la magnitud del problema se recomienda usar GPU. Recuerde que en ``Colaboratory`` tiene acceso gratuito a dicho recurso."
   ]
  },
  {
   "cell_type": "markdown",
   "metadata": {
    "hidden": true
   },
   "source": [
    "Se utilizan algunas de las funciones del notebook S8:"
   ]
  },
  {
   "cell_type": "code",
   "execution_count": null,
   "metadata": {
    "ExecuteTime": {
     "end_time": "2020-07-16T03:34:56.302214Z",
     "start_time": "2020-07-16T03:34:56.296230Z"
    },
    "colab": {},
    "colab_type": "code",
    "hidden": true,
    "id": "XRmXkOOtxU7t"
   },
   "outputs": [],
   "source": [
    "def loss_batch(model, loss_func, xb, yb, opt=None):\n",
    "    \"\"\"Obtiene perdida por batches\"\"\"\n",
    "    loss = loss_func(model(xb), yb)\n",
    "\n",
    "    if opt is not None:\n",
    "        loss.backward()\n",
    "        opt.step()\n",
    "        opt.zero_grad()\n",
    "\n",
    "    return loss.item(), len(xb)"
   ]
  },
  {
   "cell_type": "code",
   "execution_count": null,
   "metadata": {
    "ExecuteTime": {
     "end_time": "2020-07-16T03:34:56.509478Z",
     "start_time": "2020-07-16T03:34:56.503516Z"
    },
    "colab": {},
    "colab_type": "code",
    "hidden": true,
    "id": "922BBLUZxfsi"
   },
   "outputs": [],
   "source": [
    "def register(res_list):\n",
    "    '''Obtiene la perdida promedio y su desviacion estandar en batches.'''\n",
    "    \n",
    "    losses, nums = zip(*res_list)\n",
    "    \n",
    "    N = np.sum(nums)\n",
    "    loss_mean = np.sum(np.multiply(losses, nums))/N\n",
    "    loss_std = np.sqrt(np.sum(np.multiply((losses-loss_mean)**2, nums))/(N-1))\n",
    "    \n",
    "    return loss_mean, loss_std"
   ]
  },
  {
   "cell_type": "markdown",
   "metadata": {
    "hidden": true
   },
   "source": [
    "Se crea función que facilita proceso de evaluación:"
   ]
  },
  {
   "cell_type": "code",
   "execution_count": null,
   "metadata": {
    "ExecuteTime": {
     "end_time": "2020-07-16T03:34:56.704956Z",
     "start_time": "2020-07-16T03:34:56.698972Z"
    },
    "hidden": true
   },
   "outputs": [],
   "source": [
    "def evaluar(model, xb):\n",
    "    \"\"\"Evalua un batch de observaciones en un modelo y retorna batch de \n",
    "    clases predichas\"\"\"\n",
    "    yb = model(xb).detach()\n",
    "    pb = torch.softmax(yb, dim=1)\n",
    "    return torch.argmax(pb, dim=1)"
   ]
  },
  {
   "cell_type": "markdown",
   "metadata": {
    "hidden": true
   },
   "source": [
    "Se modifica la funcion fit, para aplicar la heuristica de `EarlyStopping`, ademas guarda algunos resultados extras."
   ]
  },
  {
   "cell_type": "code",
   "execution_count": null,
   "metadata": {
    "ExecuteTime": {
     "end_time": "2020-07-16T03:34:56.904516Z",
     "start_time": "2020-07-16T03:34:56.888465Z"
    },
    "code_folding": [
     7,
     12,
     14,
     19,
     65,
     87
    ],
    "colab": {},
    "colab_type": "code",
    "hidden": true,
    "id": "AyU54i37sy7j"
   },
   "outputs": [],
   "source": [
    "def fit(epochs, model, loss_func, opt, train_dl, valid_dl, es=EarlyStopping(), only_print=True, print_leap = 1):\n",
    "    '''Fit - Entrena una red neuronal.\n",
    "\n",
    "      Funcion del notebook S8, donde es implementada la heuristica EarlyStopping\n",
    "      con sus valores por defecto y otras funcionalidades.\n",
    "    '''\n",
    "    # Dataframe donde se guardarán estadisticas del proceso de aprendizaje:\n",
    "    learning_data = pd.DataFrame(\n",
    "        columns=['epoch', 'train_mean', 'train_std', 'train_acc', 'train_f1',\n",
    "                 'val_mean', 'val_std', 'val_acc', 'val_f1'])\n",
    "    \n",
    "    # Usamos GPU si está disponible:\n",
    "    if torch.cuda.is_available():\n",
    "        dev = torch.device(\"cuda\")\n",
    "    else:\n",
    "        dev = torch.device(\"cpu\")\n",
    "        \n",
    "    model.to(dev)\n",
    "    \n",
    "    for epoch in range(epochs):\n",
    "        # Entrenamiento -------------------------------------------------------\n",
    "        train_res = []\n",
    "        train_eval = []\n",
    "        train_real = []\n",
    "        model.train()\n",
    "\n",
    "        for xb, yb in train_dl:\n",
    "            # Para entrenar se usa la funcion de perdida\n",
    "            loss_batch(model, loss_func, xb.to(dev), yb.to(dev), opt)\n",
    "\n",
    "            # Se almacenan métricas de rendimiento y perdida\n",
    "            train_res.append(loss_batch(model, loss_func, xb.to(dev), yb.to(dev)))\n",
    "            train_eval.append(evaluar(model, xb.to(dev)))\n",
    "            train_real.append(yb.detach())\n",
    "            \n",
    "        train_eval = torch.cat(train_eval)\n",
    "        train_real = torch.cat(train_real)\n",
    "\n",
    "        # Validacion ----------------------------------------------------------\n",
    "        model.eval()\n",
    "        val_res = []\n",
    "        val_eval = []\n",
    "        val_real = []\n",
    "\n",
    "        with torch.no_grad():\n",
    "            for xb, yb in valid_dl:\n",
    "                # Se evaluan en la validacion metricas de rendimiento y perdida\n",
    "                val_res.append(loss_batch(model, loss_func, xb.to(dev), yb.to(dev)))\n",
    "                val_eval.append(evaluar(model,xb.to(dev)))\n",
    "                val_real.append(yb.detach())\n",
    "            \n",
    "        val_eval = torch.cat(val_eval)\n",
    "        val_real = torch.cat(val_real)\n",
    "        \n",
    "        # Se recopilan las estadisticas del proceso:\n",
    "        val_loss, val_std = register(val_res)\n",
    "        val_acc = accuracy_score(val_eval.cpu(), val_real.cpu())\n",
    "        val_f1 = f1_score(val_eval.cpu(), val_real.cpu())\n",
    "        train_loss, train_std = register(train_res)\n",
    "        train_acc = accuracy_score(train_eval.cpu(), train_real.cpu())\n",
    "        train_f1 = f1_score(train_eval.cpu(), train_real.cpu())\n",
    "\n",
    "        if epoch % print_leap == 0:\n",
    "            print('Epoca:', epoch, '- val:', val_loss, '- train:', train_loss)\n",
    "\n",
    "        learning_data = learning_data.append(\n",
    "            {\n",
    "                'epoch': epoch,\n",
    "                'train_mean': train_loss,\n",
    "                'train_std': train_std,\n",
    "                'train_acc': train_acc,\n",
    "                'train_f1': train_f1,\n",
    "                'val_mean': val_loss,\n",
    "                'val_std': val_std,\n",
    "                'val_acc': val_acc,\n",
    "                'val_f1': val_f1\n",
    "            },\n",
    "            ignore_index=True)\n",
    "        \n",
    "        if es.mejor(val_loss, guardar=False):\n",
    "            # Se guardan los pesos del mejor modelo del momento\n",
    "            mejores_pesos = model.state_dict()\n",
    "        \n",
    "        if es.deberia_parar(val_loss):\n",
    "            # Si se agota la paciencia, se detiene el proceso:\n",
    "            break        \n",
    "\n",
    "    if only_print:\n",
    "        print('Proceso terminado')\n",
    "        return mejores_pesos\n",
    "    else:\n",
    "        return learning_data, mejores_pesos"
   ]
  },
  {
   "cell_type": "markdown",
   "metadata": {
    "hidden": true
   },
   "source": [
    "Definimos los objetos necesarios para realizar el entrenamiento:"
   ]
  },
  {
   "cell_type": "code",
   "execution_count": null,
   "metadata": {
    "ExecuteTime": {
     "end_time": "2020-07-16T03:34:57.309876Z",
     "start_time": "2020-07-16T03:34:57.303890Z"
    },
    "hidden": true
   },
   "outputs": [],
   "source": [
    "torch.manual_seed(1929)\n",
    "\n",
    "\"\"\"Se define función de perdida y optimizador\"\"\"\n",
    "loss_func = nn.CrossEntropyLoss()\n",
    "opt = optim.Adam(mdl.parameters(), lr=1e-4, weight_decay=1e-5)"
   ]
  },
  {
   "cell_type": "code",
   "execution_count": null,
   "metadata": {
    "ExecuteTime": {
     "end_time": "2020-07-16T05:01:05.041536Z",
     "start_time": "2020-07-16T03:34:57.495166Z"
    },
    "hidden": true,
    "scrolled": false
   },
   "outputs": [],
   "source": [
    "\"\"\"Se entrena el modelo con earlystopping\"\"\"\n",
    "learning_data, pesos = fit(30, mdl, loss_func, opt, train_DL, valid_DL, only_print=False)"
   ]
  },
  {
   "cell_type": "markdown",
   "metadata": {
    "hidden": true
   },
   "source": [
    "Se guardan los mejores pesos de la red en `modelo.h5`"
   ]
  },
  {
   "cell_type": "code",
   "execution_count": null,
   "metadata": {
    "ExecuteTime": {
     "end_time": "2020-07-16T05:08:16.682124Z",
     "start_time": "2020-07-16T05:08:15.412392Z"
    },
    "hidden": true
   },
   "outputs": [],
   "source": [
    "torch.save(pesos, \"data/modelos/modelo.h5\")\n",
    "torch.save(learning_data, \"data/modelos/df_aprendizaje.h5\")"
   ]
  },
  {
   "cell_type": "markdown",
   "metadata": {
    "hidden": true
   },
   "source": [
    "Se puede encontrar el archivo <a href=https://drive.google.com/drive/u/2/folders/1UZzh-Cv99uxZtLEBwp0p8qndJCusiR0m>acá</a>"
   ]
  },
  {
   "cell_type": "code",
   "execution_count": null,
   "metadata": {
    "ExecuteTime": {
     "end_time": "2020-07-16T20:14:20.314990Z",
     "start_time": "2020-07-16T20:14:18.325799Z"
    },
    "hidden": true
   },
   "outputs": [],
   "source": [
    "mdl = VGG16DWSep()\n",
    "mdl.load_state_dict(torch.load(\"data/modelos/modelo.h5\"))"
   ]
  },
  {
   "cell_type": "markdown",
   "metadata": {
    "hidden": true
   },
   "source": [
    "Se evalua en el conjunto de prueba y se reportan las metricas accuracy y f1"
   ]
  },
  {
   "cell_type": "code",
   "execution_count": null,
   "metadata": {
    "ExecuteTime": {
     "end_time": "2020-07-16T05:16:32.765302Z",
     "start_time": "2020-07-16T05:16:21.655520Z"
    },
    "hidden": true
   },
   "outputs": [],
   "source": [
    "torch.manual_seed(1929)\n",
    "\n",
    "test_eval = []\n",
    "test_real = []\n",
    "\n",
    "\n",
    "if torch.cuda.is_available(): dev = torch.device('cuda')\n",
    "else: dev = torch.device('cpu')\n",
    "    \n",
    "mdl.to(dev)\n",
    "mdl.eval()\n",
    "\n",
    "with torch.no_grad():\n",
    "    for xb, yb in test_DL:\n",
    "        test_eval.append(evaluar(mdl, xb.to(dev)))\n",
    "        test_real.append(yb.detach())\n",
    "\n",
    "test_eval = torch.cat(test_eval)\n",
    "test_real = torch.cat(test_real)\n",
    "print(\"accuracy score:\", accuracy_score(test_real.cpu(), test_eval.cpu()))\n",
    "print(\"f1 score:\", f1_score(test_real.cpu(), test_eval.cpu()))"
   ]
  },
  {
   "cell_type": "markdown",
   "metadata": {
    "hidden": true
   },
   "source": [
    "Se defin ahora una funcion para graficar el proceso de aprendizaje (basado en funcion de notebook S8)"
   ]
  },
  {
   "cell_type": "code",
   "execution_count": null,
   "metadata": {
    "ExecuteTime": {
     "end_time": "2020-07-16T05:17:47.568384Z",
     "start_time": "2020-07-16T05:17:47.558409Z"
    },
    "code_folding": [
     10,
     23
    ],
    "hidden": true
   },
   "outputs": [],
   "source": [
    "import matplotlib.pyplot as plt\n",
    "\n",
    "def show_learning_curves(learning_data, metrica='Accuracy', leaps = 1):\n",
    "    '''Genera curvas de aprendizaje dado data dataframe resultado de fit().'''\n",
    "    \n",
    "    fig, ax = plt.subplots(figsize=[10, 7])\n",
    "    ax.grid()\n",
    "    \n",
    "    epcs = learning_data['epoch'][::leaps]\n",
    "\n",
    "    if learning_data.columns.size==3:\n",
    "        ax.plot(epcs,\n",
    "                learning_data.iloc[:,2][::leaps],\n",
    "                'o--',\n",
    "                color=\"g\",\n",
    "                label=\"Validation\")    \n",
    "\n",
    "        ax.plot(epcs,\n",
    "                learning_data.iloc[:,1][::leaps],\n",
    "                'o--',\n",
    "                color=\"r\",\n",
    "                label=\"Train\")\n",
    "\n",
    "    else:\n",
    "        ax.plot(epcs,\n",
    "            learning_data['val_mean'][::leaps],\n",
    "            'o--',\n",
    "            color=\"g\",\n",
    "            label=\"Validation\")    \n",
    "\n",
    "        ax.plot(epcs,\n",
    "                learning_data['train_mean'][::leaps],\n",
    "                'o--',\n",
    "                color=\"r\",\n",
    "                label=\"Train\")\n",
    "        \n",
    "        val_loss_lower = (learning_data['val_mean'] -\n",
    "                          learning_data['val_std'])[::leaps]\n",
    "\n",
    "        val_loss_upper = (learning_data['val_mean'] +\n",
    "                          learning_data['val_std'])[::leaps]\n",
    "\n",
    "        train_loss_lower = (learning_data['train_mean'] -\n",
    "                            learning_data['train_std'])[::leaps]\n",
    "        train_loss_upper = (learning_data['train_mean'] +\n",
    "                            learning_data['train_std'])[::leaps]\n",
    "        ax.fill_between(epcs, val_loss_lower, val_loss_upper, alpha=0.1, color='g')\n",
    "        ax.fill_between(epcs, train_loss_lower, train_loss_upper, alpha=0.1, color='r')\n",
    "    \n",
    "    ax.set_title('Curva de Aprendizaje', fontsize=25)\n",
    "    ax.set_xlabel('Epocas', fontsize=15)\n",
    "    ax.set_ylabel(metrica, fontsize=15)\n",
    "    ax.legend()\n",
    "    return fig"
   ]
  },
  {
   "cell_type": "code",
   "execution_count": null,
   "metadata": {
    "ExecuteTime": {
     "end_time": "2020-07-16T05:17:51.016665Z",
     "start_time": "2020-07-16T05:17:51.008677Z"
    },
    "hidden": true
   },
   "outputs": [],
   "source": [
    "data_acc = learning_data[['epoch', 'train_acc', 'val_acc']]\n",
    "data_f1 = learning_data[['epoch', 'train_f1', 'val_f1']]\n",
    "data_ce = learning_data[['epoch', 'train_mean', 'train_std', 'val_mean', 'val_std']]"
   ]
  },
  {
   "cell_type": "code",
   "execution_count": null,
   "metadata": {
    "ExecuteTime": {
     "end_time": "2020-07-16T05:18:59.406128Z",
     "start_time": "2020-07-16T05:18:59.116584Z"
    },
    "hidden": true
   },
   "outputs": [],
   "source": [
    "fig = show_learning_curves(data_ce, 'Cross Entropy')\n",
    "fig.savefig('data/plots/learn_ce.pdf', bbox_inches='tight')"
   ]
  },
  {
   "cell_type": "code",
   "execution_count": null,
   "metadata": {
    "ExecuteTime": {
     "end_time": "2020-07-16T05:19:03.149154Z",
     "start_time": "2020-07-16T05:19:02.871895Z"
    },
    "hidden": true
   },
   "outputs": [],
   "source": [
    "fig = show_learning_curves(data_acc, 'Accuracy Score')\n",
    "fig.savefig('data/plots/learn_acc.pdf', bbox_inches='tight')"
   ]
  },
  {
   "cell_type": "code",
   "execution_count": null,
   "metadata": {
    "ExecuteTime": {
     "end_time": "2020-07-16T05:19:06.959495Z",
     "start_time": "2020-07-16T05:19:06.676228Z"
    },
    "hidden": true
   },
   "outputs": [],
   "source": [
    "fig = show_learning_curves(data_f1, 'F1 Score')\n",
    "fig.savefig('data/plots/learn_f1.pdf', bbox_inches='tight')"
   ]
  },
  {
   "cell_type": "markdown",
   "metadata": {
    "colab_type": "text",
    "hidden": true,
    "id": "QkaL5WSzVK6e"
   },
   "source": [
    "6. Implemente aumentación de datos en el conjunto de prueba: para una observación $x_i$, obtenga $d$ muestras$\\{x^{(j)}_i\\}^d_{j=1}$para calcular la predicción $y_i=arg max_{k=1,2}\\sum_{j=1,...,d}P(x^{(j)}_i\\in C_k)$, donde $P$ representa la probabilidad  asociada  la  predicción de su red.  Discuta  si es correcto o no realizar esto y soporte su argumento con los resultados obtenidos en términos de *accuracy* y *f1-score*.\n",
    "\n",
    "*Hint:* Puede ser útil implementar una clase que herede de ``torch.utils.data.Sampler`` y que reciba como parámetros la cantidad de muestras para una misma observación $x_i$."
   ]
  },
  {
   "cell_type": "code",
   "execution_count": null,
   "metadata": {
    "ExecuteTime": {
     "end_time": "2020-07-16T20:20:34.588782Z",
     "start_time": "2020-07-16T20:20:33.596877Z"
    },
    "hidden": true
   },
   "outputs": [],
   "source": [
    "\"\"\"Se carga el modelo entrenado\"\"\" \n",
    "mdl = VGG16DWSep()\n",
    "mdl.load_state_dict(torch.load('data/modelos/modelo.h5'))\n",
    "if torch.cuda.is_available(): dev = torch.device('cuda')\n",
    "else: dev = torch.device('cpu')\n",
    "mdl.to(dev);"
   ]
  },
  {
   "cell_type": "code",
   "execution_count": null,
   "metadata": {
    "ExecuteTime": {
     "end_time": "2020-07-16T20:20:34.630670Z",
     "start_time": "2020-07-16T20:20:34.624686Z"
    },
    "hidden": true
   },
   "outputs": [],
   "source": [
    "def evaluar2(model, xb):\n",
    "    \"\"\"Funcion para evaluar batches {x_i^j}_{j=1}^d, segun \n",
    "    y_i = argmax_{k=0,1} \\sum_{j=1}^d (P(x_i^j \\in C_k))\"\"\"\n",
    "    yb = model(xb).detach()\n",
    "    pb = torch.softmax(yb, dim=1)\n",
    "    s  = torch.sum(pb, dim=0)\n",
    "    return torch.argmax(s)"
   ]
  },
  {
   "cell_type": "code",
   "execution_count": null,
   "metadata": {
    "ExecuteTime": {
     "end_time": "2020-07-16T20:20:35.301986Z",
     "start_time": "2020-07-16T20:20:35.298020Z"
    },
    "colab": {},
    "colab_type": "code",
    "hidden": true,
    "id": "ksilzWTYm3pA"
   },
   "outputs": [],
   "source": [
    "class AumentaSampler(torch.utils.data.Sampler):\n",
    "    \"\"\"Sampler que dado un objeto DatasetFolder y un int d, genera muestras\n",
    "    de tamaño d para cada observación i en el dataset\"\"\"\n",
    "    def __init__(self, dataset_folder, d):\n",
    "        self.dataset = dataset_folder\n",
    "        self.length = len(dataset_folder.targets)\n",
    "        self.num_samples = d\n",
    "    def __iter__(self):\n",
    "        obs = np.random.randint(0, self.length, self.length)\n",
    "        sample = [i for i in obs for j in range(self.num_samples)]\n",
    "        return iter(sample)"
   ]
  },
  {
   "cell_type": "code",
   "execution_count": null,
   "metadata": {
    "ExecuteTime": {
     "end_time": "2020-07-16T20:20:37.245435Z",
     "start_time": "2020-07-16T20:20:37.237456Z"
    },
    "hidden": true
   },
   "outputs": [],
   "source": [
    "\"\"\"Se utilizan las transformaciones de la parte 1 para aumentar los datos\"\"\"\n",
    "\n",
    "def loader(input):\n",
    "    '''Funcion que carga la imagen, si es de 1 canal la pasa a 3 canales '''\n",
    "    image = Image.open(input)\n",
    "    img = image.split()\n",
    "    if len(img) == 1:\n",
    "        return Image.merge('RGB', (img[0], img[0], img[0]))\n",
    "    else:\n",
    "        return image\n",
    "\n",
    "def ajust_brillo(img):\n",
    "    '''Multiplica los valores de cada pixel por un número aleatorio entre 1.2 y 1.5 '''\n",
    "    return img.point(lambda i: i*np.random.uniform(1.2,1.5))\n",
    "\n",
    "transf = transforms.Compose([transforms.Resize([224, 224]),\n",
    "                             transforms.ColorJitter(brightness=(0,1)),\n",
    "                             transforms.RandomHorizontalFlip(p=0.5),\n",
    "                             transforms.RandomRotation(degrees=(-20,20)),\n",
    "                             transforms.Lambda(lambda x: ajust_brillo(x)),\n",
    "                             transforms.ToTensor()\n",
    "                            ])"
   ]
  },
  {
   "cell_type": "code",
   "execution_count": null,
   "metadata": {
    "ExecuteTime": {
     "end_time": "2020-07-16T20:20:38.170105Z",
     "start_time": "2020-07-16T20:20:38.158168Z"
    },
    "hidden": true
   },
   "outputs": [],
   "source": [
    "\"\"\"Se definen los objetos necesarios para realizar el procedimiento\"\"\"\n",
    "d=4\n",
    "data_test = DatasetFolder('data/chest_xray/test', \n",
    "                          loader = loader,\n",
    "                          extensions=('jpeg'), \n",
    "                          transform=transf)\n",
    "test_aum = DataLoader(data_test, \n",
    "                      batch_size=d, \n",
    "                      sampler = AumentaSampler(data_test,d))"
   ]
  },
  {
   "cell_type": "code",
   "execution_count": null,
   "metadata": {
    "ExecuteTime": {
     "end_time": "2020-07-16T20:21:24.425226Z",
     "start_time": "2020-07-16T20:20:40.110766Z"
    },
    "hidden": true
   },
   "outputs": [],
   "source": [
    "\"\"\"Se evalua el conjunto test, siguiendo esta metodología\"\"\"\n",
    "\n",
    "y_pred=[]\n",
    "y_true=[]\n",
    "mdl.to(dev)\n",
    "mdl.eval()\n",
    "\n",
    "with torch.no_grad():\n",
    "    for xb, yb in test_aum:\n",
    "        y_pred.append(evaluar2(mdl, xb.to(dev)))\n",
    "        y_true.append(yb.detach()[0])\n",
    "\n",
    "y_pred=torch.tensor(y_pred)\n",
    "y_true=torch.tensor(y_true)"
   ]
  },
  {
   "cell_type": "code",
   "execution_count": null,
   "metadata": {
    "ExecuteTime": {
     "end_time": "2020-07-16T20:21:47.496816Z",
     "start_time": "2020-07-16T20:21:47.488835Z"
    },
    "hidden": true
   },
   "outputs": [],
   "source": [
    "print(\"accuracy score:\", accuracy_score(y_true.cpu(), y_pred.cpu()))\n",
    "print(\"f1 score:\", f1_score(y_true.cpu(), y_pred.cpu()))"
   ]
  },
  {
   "cell_type": "markdown",
   "metadata": {
    "colab_type": "text",
    "heading_collapsed": true,
    "id": "DYiMJEBIVK6k"
   },
   "source": [
    "## P3. Interpretabilidad"
   ]
  },
  {
   "cell_type": "markdown",
   "metadata": {
    "colab_type": "text",
    "hidden": true,
    "id": "qZIMlo8VVK6n"
   },
   "source": [
    "El objetivo de esta pregunta es que implemente un modelo auxiliar de interpretabilidad local sobre laspredicciones que genera una red neuronal. Esto consiste en generar perturbaciones sobre datos de entrada, con el fin de comprender la importancia de las variables en los procesos de predicción. Para ello deberá implementar el método LIME (**L**ocal**I**nterpretable**M**odel-**A**gnostic**E**xplanations).\n",
    "\n",
    "### Desarrollo teórico\n",
    "El procedimiento LIME consiste en una metodología diseñada para otorgar *interpretabilidad* a modelos de aprendizaje que suelen ser denotados como “caja negra”. Por interpretabilidad se entiende, la capacidad deestablecer relaciones claras entre las variables de un fenómeno y la respuesta que producen. LIME es “agnóstico en el modelo”, esto se refiere a que pueda ser utilizado para cualquier tipo de modelo de predicción.\n",
    "\n",
    "La idea central de LIME consiste en aproximar localmente el comportamiento de un predictor, utilizando un modelo que sea interpretable como por ejemplo regresión lineal o arboles de decisión. En términos concretos, dada una instancia a predecir $x\\in\\mathbb{R}^d$ (dato de entrada), se utilizará un vector $x′\\in\\{0,1\\}^{d'}$como representación interpretable. Se define así, una **explicación** cómo un modelo $g\\in G$, donde $G$ corresponde a una familia de modelos potencialmente interpretable, el dominio de cada $g\\in G$ será $\\{0,1\\}^{d'}$. Para asegurar que la aproximación buscada sea interpretable por un humano, se utiliza una medida  de complejidad $\\Omega(g)$ sobre cada $g\\in G$, considerando el grado de complejidad en contraposición a la interpretabilidad de un modelo.\n",
    "\n",
    "Sea un modelo predictor $f:\\mathbb{R}^d\\to \\mathbb{R}$, sea además $x\\in\\mathbb{R}^d$ en el conjunto de datos de entrada, y $x′\\in\\{0,1\\}^{'d}$ su representación interpretable. Para $x$ se define $\\pi_x(z'):\\{0,1\\}^{'d} \\to\\mathbb{R}$ como una medida de similitud entre $x′$ y $z′\\in \\{0,1\\}^{′d}$. Finalmente, se define $L(f,g,\\pi_x)$ en una vecindad inducida localmente por $\\pi_x$. Para asegurar interpretabilidad y fidelidad local (asociada a $x$), la explicación producida por LIME se obtiene resolviendo la siguiente expresión:\n",
    "\n",
    "\\begin{equation}\n",
    "\\xi(x) = arg min_{g\\in G}\\mathcal{L}(f,g,\\pi_x) + \\Omega(g)\n",
    "\\label{eqn:1}  \\tag{1}\n",
    "\\end{equation}\n",
    "\n",
    "En esta pregunta, se utilizará regresión logística cómo familia de explicaciones $G$, es decir para cada $g\\in G$ este será de la forma $g(x′) =\\sigma(w_g\\cdot x′)$. Cómo función de fidelidad $\\mathcal{L}$ se usa el la verosimilitud asociada a la regresión logística, ponderada localmente por $\\pi_x$, es decir:\n",
    "\n",
    "\\begin{equation}\n",
    "\\mathcal{L}(f,g,\\pi_x) =\\sum_{z,z′}\\pi_x(z)(f(z) log(g(z′)) + (1−f(z)) log(1−g(z′))\n",
    "\\label{eqn:2} \\tag{2}\n",
    "\\end{equation}\n",
    "\n",
    "En este caso $\\pi_x$ será un kernel exponencial definido por una medida de similitud, se utilizará la distancia coseno:\n",
    "\n",
    "\\begin{align}\n",
    "\\pi_x(z′) &= \\exp(−d(x′,z′)^2/\\sigma^2)\\tag{3} \\\\ \n",
    "d(x′,z′) &= 1−\\frac{x′\\cdot z′}{‖x′‖‖z′‖}\n",
    "\\label{eqn:4}\\tag{4}\n",
    "\\end{align}"
   ]
  },
  {
   "cell_type": "markdown",
   "metadata": {
    "colab_type": "text",
    "hidden": true,
    "id": "e4iLKdu5VK6q"
   },
   "source": [
    "Implemente los paso iniciales para trabajos con LIME, para esto:\n",
    "1. Instancie un objeto ``torchvision.transforms.Compose``, este opera sobre imágenes ``PIL`` y le aplique las siguientes transformaciones:\n",
    "    * Escalamiento de la imagen a un tamaño de $229\\times 229$ píxeles.\n",
    "    * Opere por medio de ``CenterCrop(299)``.\n",
    "    * Transforme la imagen en un objeto ``Tensor``.\n",
    "    * Normalice con las medias ``[0.485, 0.456, 0.406]`` y, desviaciones estándar ``[0.229, 0.224, 0.225]``."
   ]
  },
  {
   "cell_type": "code",
   "execution_count": null,
   "metadata": {
    "colab": {},
    "colab_type": "code",
    "id": "wMewI_OEVK6s"
   },
   "outputs": [],
   "source": []
  },
  {
   "cell_type": "markdown",
   "metadata": {
    "colab_type": "text",
    "hidden": true,
    "id": "nwuApOJ9VK68"
   },
   "source": [
    "2. Cargue la red ``inception_v3`` entrenada sobre *imageNet* (en ``Pytorch``). Utilice esta red para hacer predicción sobre una imagen de control a la cual se aplican las transformaciones antes definidas. Obtenga la clase más probable asignada por la red. \n",
    "\n",
    "*Hint:* Puede ser ́útil la función ``decode_predictions``del módulo ``keras.applications.imagenet_utils`` sobre las predicciones de la red cargada."
   ]
  },
  {
   "cell_type": "code",
   "execution_count": null,
   "metadata": {
    "colab": {},
    "colab_type": "code",
    "id": "Pd02M5OkVK6_"
   },
   "outputs": [],
   "source": []
  },
  {
   "cell_type": "markdown",
   "metadata": {
    "colab_type": "text",
    "hidden": true,
    "id": "-x_K_K2CVK8C"
   },
   "source": [
    "3. Segmente la imagen de control utilizando la función ``slic`` del módulo ``skimage.segmentation``, para los parámetros ``start_label=0``, ``n_segments=80``. El resultado de esta segmentación es un arreglo de dimensión $299\\times 299$ que asigna una categoría para cada píxel de la imagen procesada. Todos los píxeles en la imagen que comparten etiqueta conforman un super-píxel dentro de la imagen. Utilice la función ``mark_boundaries`` del módulo ``skimage.segmentationen`` conjunción con ``imshow`` del módulo ``skimage.io`` para visualizar los bordes inducidos por el conjunto de super-píxeles."
   ]
  },
  {
   "cell_type": "code",
   "execution_count": null,
   "metadata": {
    "colab": {},
    "colab_type": "code",
    "id": "qkHEfSHDVK8H"
   },
   "outputs": [],
   "source": []
  },
  {
   "cell_type": "markdown",
   "metadata": {
    "colab_type": "text",
    "hidden": true,
    "id": "-Qvo9IQuVK8S"
   },
   "source": [
    "Al representar una imagen $x$ por medio de la presencia y ausencia de los super-píxeles se logra una representación interpretable $x′$ según un vector de entradas binarias.\n",
    "\n",
    "Genere perturbaciones en la imagen de control, para esto siga los siguientes pasos:\n",
    "4. Defina un número de *perturbaciones* a realizar (al menos $1,000$). Cada perturbación consiste en arreglo binario, donde cada componente es asociada a un super-píxel. Estos arreglos serán las representaciones interpretables de la imagen de control ($x′$ asociado a $x$). Considere cada entrada de su arreglo de perturbaciones como una variable aleatoria ``Bernoulli`` con $p= 0,5$."
   ]
  },
  {
   "cell_type": "code",
   "execution_count": null,
   "metadata": {
    "colab": {},
    "colab_type": "code",
    "id": "6zuhubDQVK8U"
   },
   "outputs": [],
   "source": []
  },
  {
   "cell_type": "markdown",
   "metadata": {
    "colab_type": "text",
    "hidden": true,
    "id": "OL45LOsBVK8n"
   },
   "source": [
    "5. Genere tantas versiones perturbadas de la imagen de control como perturbaciones haya construido. Obtener una imagen perturbada consiste en asignar el valor $0$ en cada canal de color en aquellos píxeles cuyos super-píxeles asociados tengan su componente nula en el vector de perturbaciones. Obtenga una visualización de una imagen perturbada."
   ]
  },
  {
   "cell_type": "code",
   "execution_count": null,
   "metadata": {
    "colab": {},
    "colab_type": "code",
    "id": "V_lNo0kOVK8v"
   },
   "outputs": [],
   "source": []
  },
  {
   "cell_type": "markdown",
   "metadata": {
    "colab_type": "text",
    "hidden": true,
    "id": "3NPvrkjYVK86"
   },
   "source": [
    "6. Haga predicción sobre las imágenes perturbadas utilizando la red ``inception_v3``. Asocie el valor $1$ como etiqueta a las imágenes perturbadas que sean clasificadas a la misma categoría de la imagen de control y $0$ en caso contrario, el arreglo binario correspondiente se denotará $y$."
   ]
  },
  {
   "cell_type": "code",
   "execution_count": null,
   "metadata": {
    "colab": {},
    "colab_type": "code",
    "id": "c-2LXPbPVK8-"
   },
   "outputs": [],
   "source": []
  },
  {
   "cell_type": "markdown",
   "metadata": {
    "colab_type": "text",
    "hidden": true,
    "id": "cPdUz74PVK9T"
   },
   "source": [
    "7. Calcule $\\pi_x$ según la expresión **(3)**. Para ello, obtenga la distancia de coseno entre las perturbaciones asociadas a cada imagen perturbada y el vector de perturbación de la imagen de control $x$ según lo indica **(4)**."
   ]
  },
  {
   "cell_type": "code",
   "execution_count": null,
   "metadata": {
    "colab": {},
    "colab_type": "code",
    "id": "zy3L_mC1VK9V"
   },
   "outputs": [],
   "source": []
  },
  {
   "cell_type": "markdown",
   "metadata": {
    "colab_type": "text",
    "hidden": true,
    "id": "phDSsnFIVK9y"
   },
   "source": [
    "Una vez obtenido un conjunto de representaciones para la imagen de control $x$ y el vector de pesos asociados $\\pi_x$, se pasa a minimizar la función de fidelidad, para esto:\n",
    "8. Genere un conjunto de entrenamiento $D_p$. Este consta de vectores de perturbación como observaciones. La variable de respuesta será el arreglo $y$ generado anteriormente."
   ]
  },
  {
   "cell_type": "code",
   "execution_count": null,
   "metadata": {
    "colab": {},
    "colab_type": "code",
    "id": "NNU6YJDyVK92"
   },
   "outputs": [],
   "source": []
  },
  {
   "cell_type": "markdown",
   "metadata": {
    "colab_type": "text",
    "hidden": true,
    "id": "4Y4Wtn_OVK-L"
   },
   "source": [
    "9. Utilice la clase ``LogisticRegression`` del módulo ``sklearn.linearmodel`` para entrenar un clasificador sobre conjunto de entrenamiento $D_p$. Haga uso de $\\pi_x$ al momento de utilizar el método ``.fit()``. ¿Es posible agregar una medida de complejidad $\\Omega(g)$ con este esquema? argumente al respecto"
   ]
  },
  {
   "cell_type": "code",
   "execution_count": null,
   "metadata": {
    "colab": {},
    "colab_type": "code",
    "id": "aBqaaJSoVK-N"
   },
   "outputs": [],
   "source": []
  },
  {
   "cell_type": "markdown",
   "metadata": {
    "colab_type": "text",
    "hidden": true,
    "id": "_duU56dyVK-Y"
   },
   "source": [
    "10. Utilice los coeficientes del clasificador anterior para inferir los super-píxeles de mayor importancia en la clasificación de la imagen de control. Obtenga una visualización y discuta al respecto."
   ]
  },
  {
   "cell_type": "code",
   "execution_count": null,
   "metadata": {
    "colab": {},
    "colab_type": "code",
    "id": "nQWfx55nVK-a"
   },
   "outputs": [],
   "source": []
  },
  {
   "cell_type": "markdown",
   "metadata": {
    "colab_type": "text",
    "hidden": true,
    "id": "XpVSyvRiVK-k"
   },
   "source": [
    "La segmentación antes utilizada se hace de *manera espacial*. Es decir, se realiza una clusterización sobre la escala de grises según su posición en la imagen. Del procedimiento recién explicado para implementar LIME reemplace la etapa de segmentación de la imagen por 2 segmentaciones espaciales utilizando 2 modelos de clustering a su elección, para ello:\n",
    "11. Clusterice sobre un conjunto de entrenamiento $X$ con $299^2$ observaciones, es decir, una observación por píxel en la imagen de control escalada. Cada observación de $X$ consta de 3 componentes, donde la primera y segunda son espaciales (posición del píxel en la imagen) y la última es el valor de intensidad asociado al píxel (escala de grises). Utilice los clusters descubiertos para generar super-píxeles.  \n",
    "  \n",
    "  *Hint:* En Scikit-learn el método ``fit_predict`` en algoritmos de clustering puede ser de ayuda para generar super-píxeles"
   ]
  },
  {
   "cell_type": "code",
   "execution_count": null,
   "metadata": {
    "colab": {},
    "colab_type": "code",
    "id": "h8v511cNVK-m"
   },
   "outputs": [],
   "source": []
  },
  {
   "cell_type": "markdown",
   "metadata": {
    "colab_type": "text",
    "hidden": true,
    "id": "pC_fGkwGVK-x"
   },
   "source": [
    "12. Aplique el esquema LIME desarrollado anteriormente sobre sus super-píxeles. Interprete los resultados"
   ]
  },
  {
   "cell_type": "code",
   "execution_count": null,
   "metadata": {
    "colab": {},
    "colab_type": "code",
    "id": "iENlInw2VK-y"
   },
   "outputs": [],
   "source": []
  },
  {
   "cell_type": "markdown",
   "metadata": {
    "colab_type": "text",
    "hidden": true,
    "id": "TWQnrl8NVK_L"
   },
   "source": [
    "Finalmente aplique un esquema LIME sobre una predicción de la red ``VGG16DWSep`` implementada en la parte 2 de la tarea. Discuta sus resultados y observaciones"
   ]
  },
  {
   "cell_type": "markdown",
   "metadata": {
    "colab_type": "text",
    "hidden": true,
    "id": "fCzI2eD2VK_Z"
   },
   "source": [
    "**(Bonus)** Se puede hacer segmentación en el espacio de colores, en este caso, el conjunto a segmentar consiste en una transformación de la imagen de control escalada en un arreglo de dimensión (ancho$\\cdot$largo)$\\times 3$ (en el caso de ``inception_v3``, la dimesión sería $299^2\\times 3$). Sobre este nuevo arreglo implemente un algoritmo de clustering y genere super-píxeles. Aplique un esquema LIME con una familia $G$ no basada en modelos lineales y compare con la misma familia sobre un método de segmentación espacial."
   ]
  },
  {
   "cell_type": "code",
   "execution_count": null,
   "metadata": {
    "colab": {},
    "colab_type": "code",
    "hidden": true,
    "id": "CdLiJOA8VK_b"
   },
   "outputs": [],
   "source": []
  }
 ],
 "metadata": {
  "accelerator": "GPU",
  "colab": {
   "collapsed_sections": [
    "dv6n5-MbyxwA"
   ],
   "name": "tarea2.ipynb",
   "provenance": []
  },
  "kernelspec": {
   "display_name": "Python 3",
   "language": "python",
   "name": "python3"
  },
  "language_info": {
   "codemirror_mode": {
    "name": "ipython",
    "version": 3
   },
   "file_extension": ".py",
   "mimetype": "text/x-python",
   "name": "python",
   "nbconvert_exporter": "python",
   "pygments_lexer": "ipython3",
   "version": "3.7.1"
  },
  "toc": {
   "base_numbering": 1,
   "nav_menu": {},
   "number_sections": true,
   "sideBar": true,
   "skip_h1_title": false,
   "title_cell": "Table of Contents",
   "title_sidebar": "Contents",
   "toc_cell": false,
   "toc_position": {},
   "toc_section_display": true,
   "toc_window_display": false
  },
  "varInspector": {
   "cols": {
    "lenName": 16,
    "lenType": 16,
    "lenVar": 40
   },
   "kernels_config": {
    "python": {
     "delete_cmd_postfix": "",
     "delete_cmd_prefix": "del ",
     "library": "var_list.py",
     "varRefreshCmd": "print(var_dic_list())"
    },
    "r": {
     "delete_cmd_postfix": ") ",
     "delete_cmd_prefix": "rm(",
     "library": "var_list.r",
     "varRefreshCmd": "cat(var_dic_list()) "
    }
   },
   "oldHeight": 497.08333400000004,
   "position": {
    "height": "259.317px",
    "left": "1053.77px",
    "right": "20px",
    "top": "154px",
    "width": "498.7px"
   },
   "types_to_exclude": [
    "module",
    "function",
    "builtin_function_or_method",
    "instance",
    "_Feature"
   ],
   "varInspector_section_display": "block",
   "window_display": false
  }
 },
 "nbformat": 4,
 "nbformat_minor": 0
}